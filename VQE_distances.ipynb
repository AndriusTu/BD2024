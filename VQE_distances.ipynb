{
  "nbformat": 4,
  "nbformat_minor": 0,
  "metadata": {
    "colab": {
      "provenance": []
    },
    "kernelspec": {
      "name": "python3",
      "display_name": "Python 3"
    },
    "language_info": {
      "name": "python"
    }
  },
  "cells": [
    {
      "cell_type": "code",
      "execution_count": null,
      "metadata": {
        "id": "XrPgegU1jyzJ"
      },
      "outputs": [],
      "source": [
        "!pip install -q qiskit qiskit-nature qiskit-aer pyscf qiskit_algorithms"
      ]
    },
    {
      "cell_type": "code",
      "source": [
        "# pylint: disable=line-too-long\n",
        "import qiskit_nature\n",
        "from qiskit_algorithms.minimum_eigensolvers import NumPyMinimumEigensolver, VQE\n",
        "from qiskit_algorithms.optimizers import SLSQP,SPSA\n",
        "from qiskit_nature.second_q.transformers import FreezeCoreTransformer, ActiveSpaceTransformer\n",
        "from qiskit_nature.second_q.formats.molecule_info import MoleculeInfo\n",
        "from qiskit_nature.second_q.mappers import ParityMapper\n",
        "from qiskit_nature.second_q.circuit.library import UCCSD, HartreeFock\n",
        "\n",
        "qiskit_nature.settings.use_pauli_sum_op = False  # pylint: disable=undefined-variable\n",
        "# pylint: enable=line-too-long\n",
        "from qiskit_nature.second_q.drivers import PySCFDriver\n",
        "import matplotlib.pyplot as plt\n",
        "from qiskit.circuit.library import EfficientSU2\n",
        "import numpy as np\n",
        "import pyscf\n",
        "\n",
        "\n",
        "from qiskit_nature.second_q.algorithms import ExcitedStatesEigensolver\n",
        "from qiskit_algorithms import NumPyEigensolver\n",
        "from qiskit_nature.second_q.algorithms import GroundStateEigensolver, QEOM, EvaluationRule\n",
        "from qiskit_nature.units import DistanceUnit\n",
        "from qiskit_nature.second_q.mappers import JordanWignerMapper\n",
        "\n",
        "import os\n",
        "\n",
        "from google.colab import drive\n",
        "drive.mount('/content/drive')"
      ],
      "metadata": {
        "id": "j8bect-vj7dg",
        "colab": {
          "base_uri": "https://localhost:8080/"
        },
        "outputId": "211412ac-29a0-4bd9-b45a-e4ff4b7f15c2"
      },
      "execution_count": null,
      "outputs": [
        {
          "output_type": "stream",
          "name": "stdout",
          "text": [
            "Drive already mounted at /content/drive; to attempt to forcibly remount, call drive.mount(\"/content/drive\", force_remount=True).\n"
          ]
        }
      ]
    },
    {
      "cell_type": "code",
      "source": [
        "from qiskit.primitives import Estimator\n",
        "\n",
        "def get_problem(nameAtoms, coordAtoms):\n",
        "\n",
        "    molecule = MoleculeInfo(\n",
        "        symbols=nameAtoms,\n",
        "        coords=coordAtoms,\n",
        "        multiplicity=1,\n",
        "        charge=0,\n",
        "    )\n",
        "    driver = PySCFDriver.from_molecule(molecule)\n",
        "\n",
        "    properties = driver.run()\n",
        "    # print('particles: ',properties.num_particles)\n",
        "    # print('orbitals:', properties.num_spatial_orbitals)\n",
        "\n",
        "    problem =  ActiveSpaceTransformer(num_electrons=2, num_spatial_orbitals=2).transform(properties)\n",
        "\n",
        "    num_particles = problem.num_particles\n",
        "    num_spatial_orbitals = problem.num_spatial_orbitals\n",
        "\n",
        "\n",
        "    mapper = ParityMapper(problem.num_particles)\n",
        "    return num_particles, num_spatial_orbitals, problem, mapper"
      ],
      "metadata": {
        "id": "nQVxvqmHkFHS"
      },
      "execution_count": null,
      "outputs": []
    },
    {
      "cell_type": "code",
      "source": [
        "def read_coords(fileName):\n",
        "    with open(fileName, 'r') as infile:\n",
        "        nameAtoms = []\n",
        "        for line in infile :\n",
        "            if line.startswith('HETATM') or line.startswith('ATOM'):\n",
        "                    try:\n",
        "                        nameAtoms.append(str.strip(line[12:14]))\n",
        "                        coordAtoms = np.vstack([coordAtoms, [float(line[30:38]), float(line[38:46]), float(line[46:54])]])\n",
        "                    except NameError:\n",
        "                        coordAtoms = np.array([[line[30:38],line[38:46], line[46:54]]], float)\n",
        "\n",
        "        return nameAtoms, coordAtoms"
      ],
      "metadata": {
        "id": "FzfI0rPtmSuK"
      },
      "execution_count": null,
      "outputs": []
    },
    {
      "cell_type": "code",
      "source": [
        "\n",
        "def distance(coord1, coord2):\n",
        "    return np.linalg.norm(np.array(coord1) - np.array(coord2))\n",
        "\n",
        "def adjust_coords(coords, symbols, percentage_change):\n",
        "    new_coords = np.array(coords)\n",
        "    num_symbols = len(symbols)\n",
        "\n",
        "    distances = np.zeros((num_symbols, num_symbols))\n",
        "    for i in range(num_symbols):\n",
        "        for j in range(i+1, num_symbols):\n",
        "            distances[i, j] = distance(coords[i], coords[j])\n",
        "            distances[j, i] = distances[i, j]\n",
        "\n",
        "    adjusted_distances = distances * (1 + percentage_change)\n",
        "\n",
        "    for i in range(num_symbols):\n",
        "        for j in range(i+1, num_symbols):\n",
        "            diff_vector = np.array(coords[i]) - np.array(coords[j])\n",
        "            current_distance = np.linalg.norm(diff_vector)\n",
        "            scale_factor = adjusted_distances[i, j] / current_distance\n",
        "            new_coords[i] = coords[i] - diff_vector * (1 - scale_factor) / 2\n",
        "            new_coords[j] = coords[j] + diff_vector * (1 - scale_factor) / 2\n",
        "\n",
        "    return np.round(new_coords, 3).tolist()"
      ],
      "metadata": {
        "id": "B0O1FpOiUzYl"
      },
      "execution_count": null,
      "outputs": []
    },
    {
      "cell_type": "code",
      "source": [
        "import datetime\n",
        "import json\n",
        "\n",
        "directory_files = sorted(os.listdir('/content/drive/MyDrive/pdb'))\n",
        "print(directory_files)\n",
        "\n",
        "numpy_solver = NumPyMinimumEigensolver()\n",
        "noiseless_estimator = Estimator()\n",
        "optimizer = SLSQP(maxiter=10)\n",
        "percentages = [0.10,0.15,0.00,-0.10,-0.15]\n",
        "\n",
        "\n",
        "\n",
        "with open('/content/drive/MyDrive/pdbOutput/output'+datetime.datetime.now().strftime('%Y-%m-%d_%H:%M:%S') + '.txt', 'w') as writefile:\n",
        "    writefile.write('{\"results\":[\\n')\n",
        "    for file in directory_files:\n",
        "      if file.endswith('.pdb'):\n",
        "          result = {}\n",
        "          (nameAtoms,coordAtoms) = read_coords('/content/drive/MyDrive/pdb/'+file)\n",
        "          result['file'] = file\n",
        "          result['nameAtoms'] = nameAtoms\n",
        "          result['calculations']= []\n",
        "          print(file)\n",
        "          # print(\"atoms: \", nameAtoms)\n",
        "          for percentage in percentages:\n",
        "              calculation={}\n",
        "              # print('Diff from original: ',percentage)\n",
        "              if percentage != 0.00:\n",
        "                coords = adjust_coords(coordAtoms,nameAtoms,percentage)\n",
        "              else :\n",
        "                coords = np.array(coordAtoms).tolist()\n",
        "              # print(coords)\n",
        "              (num_particles, num_spatial_orbitals, problem, mapper) = get_problem(nameAtoms,coords)\n",
        "\n",
        "              init_state = HartreeFock(num_spatial_orbitals, num_particles, mapper)\n",
        "              var_form = UCCSD(\n",
        "                  num_spatial_orbitals, num_particles, mapper, initial_state=init_state\n",
        "              )\n",
        "              vqe = VQE(\n",
        "                  noiseless_estimator,\n",
        "                  var_form,\n",
        "                  optimizer,\n",
        "                  initial_point=[0.0] * var_form.num_parameters,\n",
        "              )\n",
        "              gse = GroundStateEigensolver(mapper, vqe)\n",
        "\n",
        "              solved = gse.solve(problem)\n",
        "              calculation['diff'] = percentage\n",
        "              calculation['coords'] = coords\n",
        "              calculation['energy'] = solved.total_energies[0]\n",
        "\n",
        "              result['calculations'].append(calculation)\n",
        "              # print('energy: ', solved.total_energies)\n",
        "              # print('-------------------')\n",
        "\n",
        "          # print(result)\n",
        "          energies = [calc[\"energy\"] for calc in result['calculations']]\n",
        "\n",
        "          min_energy = min(energies)\n",
        "          # print(min_energy)\n",
        "          # print(result['calculations'][3]['energy'])\n",
        "\n",
        "          result['isBaseCorrect'] = bool(result['calculations'][2]['energy'] == min_energy)\n",
        "          writefile.write(json.dumps(result))\n",
        "          writefile.write(',\\n')\n",
        "          # print('-----------------------------------------------')\n",
        "    writefile.write(']}')\n",
        "\n",
        "\n"
      ],
      "metadata": {
        "id": "x87tb9wVmLmy",
        "colab": {
          "base_uri": "https://localhost:8080/",
          "height": 619
        },
        "outputId": "36e24deb-bab0-4951-8eec-03523b04d122"
      },
      "execution_count": null,
      "outputs": [
        {
          "output_type": "stream",
          "name": "stdout",
          "text": [
            "['acetald.pdb', 'asf3.pdb', 'b2h6.pdb', 'bcl3.pdb', 'beh2.pdb', 'bf3.pdb', 'bh3.pdb', 'brf3.pdb', 'c2h2.pdb', 'c2h3n.pdb', 'c2h4.pdb', 'c2h6.pdb', 'caffeine.pdb', 'ccln.pdb', 'cf2ccl2.pdb', 'cf4.pdb', 'ch2cl2.pdb', 'ch5n.pdb', 'cl2o.pdb', 'clf3.pdb', 'co2.pdb', 'cos.pdb', 'cs2.pdb', 'ethanol.pdb', 'etoh.pdb', 'form.pdb', 'geh4.pdb', 'h2.pdb', 'h2s.pdb', 'h2se.pdb', 'h3po4.pdb', 'hbr.pdb', 'hcl.pdb', 'hcn.pdb', 'hn3.pdb', 'hno2.pdb', 'hno3.pdb', 'i2.pdb', 'icl.pdb', 'n2.pdb', 'nocl.pdb', 'p4s3.pdb', 'pcl5.pdb', 'propanol.pdb', 'sbh3.pdb', 'seocl2.pdb', 'snh4.pdb', 'ticl4.pdb']\n",
            "acetald.pdb\n",
            "asf3.pdb\n",
            "b2h6.pdb\n",
            "bcl3.pdb\n",
            "beh2.pdb\n",
            "bf3.pdb\n",
            "bh3.pdb\n",
            "brf3.pdb\n",
            "c2h2.pdb\n",
            "c2h3n.pdb\n",
            "c2h4.pdb\n",
            "c2h6.pdb\n",
            "caffeine.pdb\n"
          ]
        },
        {
          "output_type": "error",
          "ename": "KeyboardInterrupt",
          "evalue": "",
          "traceback": [
            "\u001b[0;31m---------------------------------------------------------------------------\u001b[0m",
            "\u001b[0;31mKeyboardInterrupt\u001b[0m                         Traceback (most recent call last)",
            "\u001b[0;32m<ipython-input-17-e3d6d9363c0d>\u001b[0m in \u001b[0;36m<cell line: 14>\u001b[0;34m()\u001b[0m\n\u001b[1;32m     31\u001b[0m                 \u001b[0mcoords\u001b[0m \u001b[0;34m=\u001b[0m \u001b[0mnp\u001b[0m\u001b[0;34m.\u001b[0m\u001b[0marray\u001b[0m\u001b[0;34m(\u001b[0m\u001b[0mcoordAtoms\u001b[0m\u001b[0;34m)\u001b[0m\u001b[0;34m.\u001b[0m\u001b[0mtolist\u001b[0m\u001b[0;34m(\u001b[0m\u001b[0;34m)\u001b[0m\u001b[0;34m\u001b[0m\u001b[0;34m\u001b[0m\u001b[0m\n\u001b[1;32m     32\u001b[0m               \u001b[0;31m# print(coords)\u001b[0m\u001b[0;34m\u001b[0m\u001b[0;34m\u001b[0m\u001b[0m\n\u001b[0;32m---> 33\u001b[0;31m               \u001b[0;34m(\u001b[0m\u001b[0mnum_particles\u001b[0m\u001b[0;34m,\u001b[0m \u001b[0mnum_spatial_orbitals\u001b[0m\u001b[0;34m,\u001b[0m \u001b[0mproblem\u001b[0m\u001b[0;34m,\u001b[0m \u001b[0mmapper\u001b[0m\u001b[0;34m)\u001b[0m \u001b[0;34m=\u001b[0m \u001b[0mget_problem\u001b[0m\u001b[0;34m(\u001b[0m\u001b[0mnameAtoms\u001b[0m\u001b[0;34m,\u001b[0m\u001b[0mcoords\u001b[0m\u001b[0;34m)\u001b[0m\u001b[0;34m\u001b[0m\u001b[0;34m\u001b[0m\u001b[0m\n\u001b[0m\u001b[1;32m     34\u001b[0m \u001b[0;34m\u001b[0m\u001b[0m\n\u001b[1;32m     35\u001b[0m               \u001b[0minit_state\u001b[0m \u001b[0;34m=\u001b[0m \u001b[0mHartreeFock\u001b[0m\u001b[0;34m(\u001b[0m\u001b[0mnum_spatial_orbitals\u001b[0m\u001b[0;34m,\u001b[0m \u001b[0mnum_particles\u001b[0m\u001b[0;34m,\u001b[0m \u001b[0mmapper\u001b[0m\u001b[0;34m)\u001b[0m\u001b[0;34m\u001b[0m\u001b[0;34m\u001b[0m\u001b[0m\n",
            "\u001b[0;32m<ipython-input-4-1cd5c5152722>\u001b[0m in \u001b[0;36mget_problem\u001b[0;34m(nameAtoms, coordAtoms)\u001b[0m\n\u001b[1;32m     11\u001b[0m     \u001b[0mdriver\u001b[0m \u001b[0;34m=\u001b[0m \u001b[0mPySCFDriver\u001b[0m\u001b[0;34m.\u001b[0m\u001b[0mfrom_molecule\u001b[0m\u001b[0;34m(\u001b[0m\u001b[0mmolecule\u001b[0m\u001b[0;34m)\u001b[0m\u001b[0;34m\u001b[0m\u001b[0;34m\u001b[0m\u001b[0m\n\u001b[1;32m     12\u001b[0m \u001b[0;34m\u001b[0m\u001b[0m\n\u001b[0;32m---> 13\u001b[0;31m     \u001b[0mproperties\u001b[0m \u001b[0;34m=\u001b[0m \u001b[0mdriver\u001b[0m\u001b[0;34m.\u001b[0m\u001b[0mrun\u001b[0m\u001b[0;34m(\u001b[0m\u001b[0;34m)\u001b[0m\u001b[0;34m\u001b[0m\u001b[0;34m\u001b[0m\u001b[0m\n\u001b[0m\u001b[1;32m     14\u001b[0m     \u001b[0;31m# print('particles: ',properties.num_particles)\u001b[0m\u001b[0;34m\u001b[0m\u001b[0;34m\u001b[0m\u001b[0m\n\u001b[1;32m     15\u001b[0m     \u001b[0;31m# print('orbitals:', properties.num_spatial_orbitals)\u001b[0m\u001b[0;34m\u001b[0m\u001b[0;34m\u001b[0m\u001b[0m\n",
            "\u001b[0;32m/usr/local/lib/python3.10/dist-packages/qiskit_nature/second_q/drivers/pyscfd/pyscfdriver.py\u001b[0m in \u001b[0;36mrun\u001b[0;34m(self)\u001b[0m\n\u001b[1;32m    369\u001b[0m         \"\"\"\n\u001b[1;32m    370\u001b[0m         \u001b[0mself\u001b[0m\u001b[0;34m.\u001b[0m\u001b[0mrun_pyscf\u001b[0m\u001b[0;34m(\u001b[0m\u001b[0;34m)\u001b[0m\u001b[0;34m\u001b[0m\u001b[0;34m\u001b[0m\u001b[0m\n\u001b[0;32m--> 371\u001b[0;31m         \u001b[0;32mreturn\u001b[0m \u001b[0mself\u001b[0m\u001b[0;34m.\u001b[0m\u001b[0mto_problem\u001b[0m\u001b[0;34m(\u001b[0m\u001b[0;34m)\u001b[0m\u001b[0;34m\u001b[0m\u001b[0;34m\u001b[0m\u001b[0m\n\u001b[0m\u001b[1;32m    372\u001b[0m \u001b[0;34m\u001b[0m\u001b[0m\n\u001b[1;32m    373\u001b[0m     \u001b[0;32mdef\u001b[0m \u001b[0m_build_molecule\u001b[0m\u001b[0;34m(\u001b[0m\u001b[0mself\u001b[0m\u001b[0;34m)\u001b[0m \u001b[0;34m->\u001b[0m \u001b[0;32mNone\u001b[0m\u001b[0;34m:\u001b[0m\u001b[0;34m\u001b[0m\u001b[0;34m\u001b[0m\u001b[0m\n",
            "\u001b[0;32m/usr/local/lib/python3.10/dist-packages/qiskit_nature/second_q/drivers/pyscfd/pyscfdriver.py\u001b[0m in \u001b[0;36mto_problem\u001b[0;34m(self, basis, include_dipole)\u001b[0m\n\u001b[1;32m    606\u001b[0m         \u001b[0minclude_dipole\u001b[0m\u001b[0;34m:\u001b[0m \u001b[0mbool\u001b[0m \u001b[0;34m=\u001b[0m \u001b[0;32mTrue\u001b[0m\u001b[0;34m,\u001b[0m\u001b[0;34m\u001b[0m\u001b[0;34m\u001b[0m\u001b[0m\n\u001b[1;32m    607\u001b[0m     ) -> ElectronicStructureProblem:\n\u001b[0;32m--> 608\u001b[0;31m         \u001b[0mqcschema\u001b[0m \u001b[0;34m=\u001b[0m \u001b[0mself\u001b[0m\u001b[0;34m.\u001b[0m\u001b[0mto_qcschema\u001b[0m\u001b[0;34m(\u001b[0m\u001b[0minclude_dipole\u001b[0m\u001b[0;34m=\u001b[0m\u001b[0minclude_dipole\u001b[0m\u001b[0;34m)\u001b[0m\u001b[0;34m\u001b[0m\u001b[0;34m\u001b[0m\u001b[0m\n\u001b[0m\u001b[1;32m    609\u001b[0m \u001b[0;34m\u001b[0m\u001b[0m\n\u001b[1;32m    610\u001b[0m         \u001b[0mproblem\u001b[0m \u001b[0;34m=\u001b[0m \u001b[0mqcschema_to_problem\u001b[0m\u001b[0;34m(\u001b[0m\u001b[0mqcschema\u001b[0m\u001b[0;34m,\u001b[0m \u001b[0mbasis\u001b[0m\u001b[0;34m=\u001b[0m\u001b[0mbasis\u001b[0m\u001b[0;34m,\u001b[0m \u001b[0minclude_dipole\u001b[0m\u001b[0;34m=\u001b[0m\u001b[0minclude_dipole\u001b[0m\u001b[0;34m)\u001b[0m\u001b[0;34m\u001b[0m\u001b[0;34m\u001b[0m\u001b[0m\n",
            "\u001b[0;32m/usr/local/lib/python3.10/dist-packages/qiskit_nature/second_q/drivers/pyscfd/pyscfdriver.py\u001b[0m in \u001b[0;36mto_qcschema\u001b[0;34m(self, include_dipole)\u001b[0m\n\u001b[1;32m    539\u001b[0m \u001b[0;34m\u001b[0m\u001b[0m\n\u001b[1;32m    540\u001b[0m         \u001b[0mdata\u001b[0m\u001b[0;34m.\u001b[0m\u001b[0meri\u001b[0m \u001b[0;34m=\u001b[0m \u001b[0mself\u001b[0m\u001b[0;34m.\u001b[0m\u001b[0m_mol\u001b[0m\u001b[0;34m.\u001b[0m\u001b[0mintor\u001b[0m\u001b[0;34m(\u001b[0m\u001b[0;34m\"int2e\"\u001b[0m\u001b[0;34m,\u001b[0m \u001b[0maosym\u001b[0m\u001b[0;34m=\u001b[0m\u001b[0;36m8\u001b[0m\u001b[0;34m)\u001b[0m\u001b[0;34m\u001b[0m\u001b[0;34m\u001b[0m\u001b[0m\n\u001b[0;32m--> 541\u001b[0;31m         \u001b[0mdata\u001b[0m\u001b[0;34m.\u001b[0m\u001b[0meri_mo\u001b[0m \u001b[0;34m=\u001b[0m \u001b[0mfold\u001b[0m\u001b[0;34m(\u001b[0m\u001b[0mao2mo\u001b[0m\u001b[0;34m.\u001b[0m\u001b[0mfull\u001b[0m\u001b[0;34m(\u001b[0m\u001b[0mself\u001b[0m\u001b[0;34m.\u001b[0m\u001b[0m_mol\u001b[0m\u001b[0;34m,\u001b[0m \u001b[0mdata\u001b[0m\u001b[0;34m.\u001b[0m\u001b[0mmo_coeff\u001b[0m\u001b[0;34m,\u001b[0m \u001b[0maosym\u001b[0m\u001b[0;34m=\u001b[0m\u001b[0;36m4\u001b[0m\u001b[0;34m)\u001b[0m\u001b[0;34m)\u001b[0m\u001b[0;34m\u001b[0m\u001b[0;34m\u001b[0m\u001b[0m\n\u001b[0m\u001b[1;32m    542\u001b[0m         \u001b[0;32mif\u001b[0m \u001b[0mdata\u001b[0m\u001b[0;34m.\u001b[0m\u001b[0mmo_coeff_b\u001b[0m \u001b[0;32mis\u001b[0m \u001b[0;32mnot\u001b[0m \u001b[0;32mNone\u001b[0m\u001b[0;34m:\u001b[0m\u001b[0;34m\u001b[0m\u001b[0;34m\u001b[0m\u001b[0m\n\u001b[1;32m    543\u001b[0m             \u001b[0mdata\u001b[0m\u001b[0;34m.\u001b[0m\u001b[0meri_mo_bb\u001b[0m \u001b[0;34m=\u001b[0m \u001b[0mfold\u001b[0m\u001b[0;34m(\u001b[0m\u001b[0mao2mo\u001b[0m\u001b[0;34m.\u001b[0m\u001b[0mfull\u001b[0m\u001b[0;34m(\u001b[0m\u001b[0mself\u001b[0m\u001b[0;34m.\u001b[0m\u001b[0m_mol\u001b[0m\u001b[0;34m,\u001b[0m \u001b[0mdata\u001b[0m\u001b[0;34m.\u001b[0m\u001b[0mmo_coeff_b\u001b[0m\u001b[0;34m,\u001b[0m \u001b[0maosym\u001b[0m\u001b[0;34m=\u001b[0m\u001b[0;36m4\u001b[0m\u001b[0;34m)\u001b[0m\u001b[0;34m)\u001b[0m\u001b[0;34m\u001b[0m\u001b[0;34m\u001b[0m\u001b[0m\n",
            "\u001b[0;32m/usr/local/lib/python3.10/dist-packages/qiskit_nature/second_q/operators/symmetric_two_body.py\u001b[0m in \u001b[0;36mfold\u001b[0;34m(eri, validate)\u001b[0m\n\u001b[1;32m    515\u001b[0m     \u001b[0;32mif\u001b[0m \u001b[0mlen\u001b[0m\u001b[0;34m(\u001b[0m\u001b[0meri\u001b[0m\u001b[0;34m.\u001b[0m\u001b[0mshape\u001b[0m\u001b[0;34m)\u001b[0m \u001b[0;34m==\u001b[0m \u001b[0;36m2\u001b[0m\u001b[0;34m:\u001b[0m\u001b[0;34m\u001b[0m\u001b[0;34m\u001b[0m\u001b[0m\n\u001b[1;32m    516\u001b[0m         \u001b[0;32mtry\u001b[0m\u001b[0;34m:\u001b[0m\u001b[0;34m\u001b[0m\u001b[0;34m\u001b[0m\u001b[0m\n\u001b[0;32m--> 517\u001b[0;31m             \u001b[0;32mreturn\u001b[0m \u001b[0mfold_s4_to_s8\u001b[0m\u001b[0;34m(\u001b[0m\u001b[0meri\u001b[0m\u001b[0;34m,\u001b[0m \u001b[0mvalidate\u001b[0m\u001b[0;34m=\u001b[0m\u001b[0mvalidate\u001b[0m\u001b[0;34m)\u001b[0m\u001b[0;34m\u001b[0m\u001b[0;34m\u001b[0m\u001b[0m\n\u001b[0m\u001b[1;32m    518\u001b[0m         \u001b[0;32mexcept\u001b[0m \u001b[0mValueError\u001b[0m \u001b[0;32mas\u001b[0m \u001b[0merr\u001b[0m\u001b[0;34m:\u001b[0m\u001b[0;34m\u001b[0m\u001b[0;34m\u001b[0m\u001b[0m\n\u001b[1;32m    519\u001b[0m             LOGGER.warning(\n",
            "\u001b[0;32m/usr/local/lib/python3.10/dist-packages/qiskit_nature/second_q/operators/symmetric_two_body.py\u001b[0m in \u001b[0;36mfold_s4_to_s8\u001b[0;34m(eri, validate)\u001b[0m\n\u001b[1;32m    695\u001b[0m             \u001b[0;34mf\"encountered: {eri.shape}\"\u001b[0m\u001b[0;34m\u001b[0m\u001b[0;34m\u001b[0m\u001b[0m\n\u001b[1;32m    696\u001b[0m         )\n\u001b[0;32m--> 697\u001b[0;31m     \u001b[0;32mif\u001b[0m \u001b[0mvalidate\u001b[0m \u001b[0;32mand\u001b[0m \u001b[0;32mnot\u001b[0m \u001b[0mnp\u001b[0m\u001b[0;34m.\u001b[0m\u001b[0mallclose\u001b[0m\u001b[0;34m(\u001b[0m\u001b[0meri\u001b[0m\u001b[0;34m,\u001b[0m \u001b[0meri\u001b[0m\u001b[0;34m.\u001b[0m\u001b[0mT\u001b[0m\u001b[0;34m)\u001b[0m\u001b[0;34m:\u001b[0m\u001b[0;34m\u001b[0m\u001b[0;34m\u001b[0m\u001b[0m\n\u001b[0m\u001b[1;32m    698\u001b[0m         \u001b[0;32mraise\u001b[0m \u001b[0mValueError\u001b[0m\u001b[0;34m(\u001b[0m\u001b[0;34m\"Expected a symmetric tensor.\"\u001b[0m\u001b[0;34m)\u001b[0m\u001b[0;34m\u001b[0m\u001b[0;34m\u001b[0m\u001b[0m\n\u001b[1;32m    699\u001b[0m \u001b[0;34m\u001b[0m\u001b[0m\n",
            "\u001b[0;32m/usr/local/lib/python3.10/dist-packages/numpy/core/numeric.py\u001b[0m in \u001b[0;36mallclose\u001b[0;34m(a, b, rtol, atol, equal_nan)\u001b[0m\n\u001b[1;32m   2239\u001b[0m \u001b[0;34m\u001b[0m\u001b[0m\n\u001b[1;32m   2240\u001b[0m     \"\"\"\n\u001b[0;32m-> 2241\u001b[0;31m     \u001b[0mres\u001b[0m \u001b[0;34m=\u001b[0m \u001b[0mall\u001b[0m\u001b[0;34m(\u001b[0m\u001b[0misclose\u001b[0m\u001b[0;34m(\u001b[0m\u001b[0ma\u001b[0m\u001b[0;34m,\u001b[0m \u001b[0mb\u001b[0m\u001b[0;34m,\u001b[0m \u001b[0mrtol\u001b[0m\u001b[0;34m=\u001b[0m\u001b[0mrtol\u001b[0m\u001b[0;34m,\u001b[0m \u001b[0matol\u001b[0m\u001b[0;34m=\u001b[0m\u001b[0matol\u001b[0m\u001b[0;34m,\u001b[0m \u001b[0mequal_nan\u001b[0m\u001b[0;34m=\u001b[0m\u001b[0mequal_nan\u001b[0m\u001b[0;34m)\u001b[0m\u001b[0;34m)\u001b[0m\u001b[0;34m\u001b[0m\u001b[0;34m\u001b[0m\u001b[0m\n\u001b[0m\u001b[1;32m   2242\u001b[0m     \u001b[0;32mreturn\u001b[0m \u001b[0mbool\u001b[0m\u001b[0;34m(\u001b[0m\u001b[0mres\u001b[0m\u001b[0;34m)\u001b[0m\u001b[0;34m\u001b[0m\u001b[0;34m\u001b[0m\u001b[0m\n\u001b[1;32m   2243\u001b[0m \u001b[0;34m\u001b[0m\u001b[0m\n",
            "\u001b[0;32m/usr/local/lib/python3.10/dist-packages/numpy/core/numeric.py\u001b[0m in \u001b[0;36misclose\u001b[0;34m(a, b, rtol, atol, equal_nan)\u001b[0m\n\u001b[1;32m   2349\u001b[0m     \u001b[0myfin\u001b[0m \u001b[0;34m=\u001b[0m \u001b[0misfinite\u001b[0m\u001b[0;34m(\u001b[0m\u001b[0my\u001b[0m\u001b[0;34m)\u001b[0m\u001b[0;34m\u001b[0m\u001b[0;34m\u001b[0m\u001b[0m\n\u001b[1;32m   2350\u001b[0m     \u001b[0;32mif\u001b[0m \u001b[0mall\u001b[0m\u001b[0;34m(\u001b[0m\u001b[0mxfin\u001b[0m\u001b[0;34m)\u001b[0m \u001b[0;32mand\u001b[0m \u001b[0mall\u001b[0m\u001b[0;34m(\u001b[0m\u001b[0myfin\u001b[0m\u001b[0;34m)\u001b[0m\u001b[0;34m:\u001b[0m\u001b[0;34m\u001b[0m\u001b[0;34m\u001b[0m\u001b[0m\n\u001b[0;32m-> 2351\u001b[0;31m         \u001b[0;32mreturn\u001b[0m \u001b[0mwithin_tol\u001b[0m\u001b[0;34m(\u001b[0m\u001b[0mx\u001b[0m\u001b[0;34m,\u001b[0m \u001b[0my\u001b[0m\u001b[0;34m,\u001b[0m \u001b[0matol\u001b[0m\u001b[0;34m,\u001b[0m \u001b[0mrtol\u001b[0m\u001b[0;34m)\u001b[0m\u001b[0;34m\u001b[0m\u001b[0;34m\u001b[0m\u001b[0m\n\u001b[0m\u001b[1;32m   2352\u001b[0m     \u001b[0;32melse\u001b[0m\u001b[0;34m:\u001b[0m\u001b[0;34m\u001b[0m\u001b[0;34m\u001b[0m\u001b[0m\n\u001b[1;32m   2353\u001b[0m         \u001b[0mfinite\u001b[0m \u001b[0;34m=\u001b[0m \u001b[0mxfin\u001b[0m \u001b[0;34m&\u001b[0m \u001b[0myfin\u001b[0m\u001b[0;34m\u001b[0m\u001b[0;34m\u001b[0m\u001b[0m\n",
            "\u001b[0;32m/usr/local/lib/python3.10/dist-packages/numpy/core/numeric.py\u001b[0m in \u001b[0;36mwithin_tol\u001b[0;34m(x, y, atol, rtol)\u001b[0m\n\u001b[1;32m   2330\u001b[0m     \u001b[0;32mdef\u001b[0m \u001b[0mwithin_tol\u001b[0m\u001b[0;34m(\u001b[0m\u001b[0mx\u001b[0m\u001b[0;34m,\u001b[0m \u001b[0my\u001b[0m\u001b[0;34m,\u001b[0m \u001b[0matol\u001b[0m\u001b[0;34m,\u001b[0m \u001b[0mrtol\u001b[0m\u001b[0;34m)\u001b[0m\u001b[0;34m:\u001b[0m\u001b[0;34m\u001b[0m\u001b[0;34m\u001b[0m\u001b[0m\n\u001b[1;32m   2331\u001b[0m         \u001b[0;32mwith\u001b[0m \u001b[0merrstate\u001b[0m\u001b[0;34m(\u001b[0m\u001b[0minvalid\u001b[0m\u001b[0;34m=\u001b[0m\u001b[0;34m'ignore'\u001b[0m\u001b[0;34m)\u001b[0m\u001b[0;34m,\u001b[0m \u001b[0m_no_nep50_warning\u001b[0m\u001b[0;34m(\u001b[0m\u001b[0;34m)\u001b[0m\u001b[0;34m:\u001b[0m\u001b[0;34m\u001b[0m\u001b[0;34m\u001b[0m\u001b[0m\n\u001b[0;32m-> 2332\u001b[0;31m             \u001b[0;32mreturn\u001b[0m \u001b[0mless_equal\u001b[0m\u001b[0;34m(\u001b[0m\u001b[0mabs\u001b[0m\u001b[0;34m(\u001b[0m\u001b[0mx\u001b[0m\u001b[0;34m-\u001b[0m\u001b[0my\u001b[0m\u001b[0;34m)\u001b[0m\u001b[0;34m,\u001b[0m \u001b[0matol\u001b[0m \u001b[0;34m+\u001b[0m \u001b[0mrtol\u001b[0m \u001b[0;34m*\u001b[0m \u001b[0mabs\u001b[0m\u001b[0;34m(\u001b[0m\u001b[0my\u001b[0m\u001b[0;34m)\u001b[0m\u001b[0;34m)\u001b[0m\u001b[0;34m\u001b[0m\u001b[0;34m\u001b[0m\u001b[0m\n\u001b[0m\u001b[1;32m   2333\u001b[0m \u001b[0;34m\u001b[0m\u001b[0m\n\u001b[1;32m   2334\u001b[0m     \u001b[0mx\u001b[0m \u001b[0;34m=\u001b[0m \u001b[0masanyarray\u001b[0m\u001b[0;34m(\u001b[0m\u001b[0ma\u001b[0m\u001b[0;34m)\u001b[0m\u001b[0;34m\u001b[0m\u001b[0;34m\u001b[0m\u001b[0m\n",
            "\u001b[0;31mKeyboardInterrupt\u001b[0m: "
          ]
        }
      ]
    }
  ]
}