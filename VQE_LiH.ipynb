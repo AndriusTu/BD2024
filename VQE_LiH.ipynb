{
  "cells": [
    {
      "cell_type": "code",
      "execution_count": null,
      "metadata": {
        "colab": {
          "base_uri": "https://localhost:8080/"
        },
        "id": "3ZBzYu2cCMBE",
        "outputId": "8773bfd0-5d77-4a30-8741-bfdfcf7d8d13"
      },
      "outputs": [
        {
          "output_type": "stream",
          "name": "stdout",
          "text": [
            "\u001b[2K     \u001b[90m━━━━━━━━━━━━━━━━━━━━━━━━━━━━━━━━━━━━━━━━\u001b[0m \u001b[32m5.6/5.6 MB\u001b[0m \u001b[31m14.9 MB/s\u001b[0m eta \u001b[36m0:00:00\u001b[0m\n",
            "\u001b[2K     \u001b[90m━━━━━━━━━━━━━━━━━━━━━━━━━━━━━━━━━━━━━━━━\u001b[0m \u001b[32m2.2/2.2 MB\u001b[0m \u001b[31m26.3 MB/s\u001b[0m eta \u001b[36m0:00:00\u001b[0m\n",
            "\u001b[2K     \u001b[90m━━━━━━━━━━━━━━━━━━━━━━━━━━━━━━━━━━━━━━━━\u001b[0m \u001b[32m12.3/12.3 MB\u001b[0m \u001b[31m41.8 MB/s\u001b[0m eta \u001b[36m0:00:00\u001b[0m\n",
            "\u001b[2K     \u001b[90m━━━━━━━━━━━━━━━━━━━━━━━━━━━━━━━━━━━━━━━━\u001b[0m \u001b[32m47.3/47.3 MB\u001b[0m \u001b[31m8.9 MB/s\u001b[0m eta \u001b[36m0:00:00\u001b[0m\n",
            "\u001b[2K     \u001b[90m━━━━━━━━━━━━━━━━━━━━━━━━━━━━━━━━━━━━━━━━\u001b[0m \u001b[32m308.6/308.6 kB\u001b[0m \u001b[31m30.3 MB/s\u001b[0m eta \u001b[36m0:00:00\u001b[0m\n",
            "\u001b[2K     \u001b[90m━━━━━━━━━━━━━━━━━━━━━━━━━━━━━━━━━━━━━━━━\u001b[0m \u001b[32m2.1/2.1 MB\u001b[0m \u001b[31m71.6 MB/s\u001b[0m eta \u001b[36m0:00:00\u001b[0m\n",
            "\u001b[2K     \u001b[90m━━━━━━━━━━━━━━━━━━━━━━━━━━━━━━━━━━━━━━━━\u001b[0m \u001b[32m116.3/116.3 kB\u001b[0m \u001b[31m12.8 MB/s\u001b[0m eta \u001b[36m0:00:00\u001b[0m\n",
            "\u001b[2K     \u001b[90m━━━━━━━━━━━━━━━━━━━━━━━━━━━━━━━━━━━━━━━━\u001b[0m \u001b[32m49.7/49.7 kB\u001b[0m \u001b[31m4.8 MB/s\u001b[0m eta \u001b[36m0:00:00\u001b[0m\n",
            "\u001b[2K     \u001b[90m━━━━━━━━━━━━━━━━━━━━━━━━━━━━━━━━━━━━━━━━\u001b[0m \u001b[32m39.4/39.4 MB\u001b[0m \u001b[31m9.0 MB/s\u001b[0m eta \u001b[36m0:00:00\u001b[0m\n",
            "\u001b[2K     \u001b[90m━━━━━━━━━━━━━━━━━━━━━━━━━━━━━━━━━━━━━━━━\u001b[0m \u001b[32m107.5/107.5 kB\u001b[0m \u001b[31m9.3 MB/s\u001b[0m eta \u001b[36m0:00:00\u001b[0m\n",
            "\u001b[?25h"
          ]
        }
      ],
      "source": [
        "!pip install -q qiskit qiskit-nature qiskit-aer pyscf qiskit_algorithms"
      ]
    },
    {
      "cell_type": "code",
      "execution_count": null,
      "metadata": {
        "id": "ltv5ruGS_eOU"
      },
      "outputs": [],
      "source": [
        "# pylint: disable=line-too-long\n",
        "import qiskit_nature\n",
        "from qiskit_algorithms.minimum_eigensolvers import NumPyMinimumEigensolver, VQE\n",
        "from qiskit_algorithms.optimizers import SLSQP,SPSA\n",
        "from qiskit_nature.second_q.transformers import FreezeCoreTransformer, ActiveSpaceTransformer\n",
        "from qiskit_nature.second_q.formats.molecule_info import MoleculeInfo\n",
        "from qiskit_nature.second_q.mappers import ParityMapper\n",
        "from qiskit_nature.second_q.circuit.library import UCCSD, HartreeFock\n",
        "\n",
        "qiskit_nature.settings.use_pauli_sum_op = False  # pylint: disable=undefined-variable\n",
        "# pylint: enable=line-too-long\n",
        "from qiskit_nature.second_q.drivers import PySCFDriver\n",
        "import matplotlib.pyplot as plt\n",
        "from qiskit.circuit.library import EfficientSU2\n",
        "import numpy as np\n",
        "import pyscf\n",
        "\n",
        "\n",
        "\n",
        "from qiskit_nature.second_q.algorithms import ExcitedStatesEigensolver\n",
        "from qiskit_algorithms import NumPyEigensolver\n",
        "from qiskit_nature.second_q.algorithms import GroundStateEigensolver, QEOM, EvaluationRule\n",
        "from qiskit_nature.units import DistanceUnit\n",
        "from qiskit_nature.second_q.mappers import JordanWignerMapper"
      ]
    },
    {
      "cell_type": "markdown",
      "source": [
        "## Noiseless stuff"
      ],
      "metadata": {
        "id": "ZOtqOvPvPmU4"
      }
    },
    {
      "cell_type": "code",
      "execution_count": null,
      "metadata": {
        "id": "EtAIot_PB1m4"
      },
      "outputs": [],
      "source": [
        "from qiskit_aer.primitives import Estimator\n",
        "\n",
        "def get_qubit_op(dist):\n",
        "    molecule = MoleculeInfo(\n",
        "        symbols=[\"Li\", \"H\"],\n",
        "        coords=([0.0, 0.0, 0.0], [dist, 0.0, 0.0]), # 1.59 A - real distance between bond\n",
        "        multiplicity=1,\n",
        "        charge=0,\n",
        "    )\n",
        "\n",
        "    driver = PySCFDriver.from_molecule(molecule)\n",
        "\n",
        "    properties = driver.run()\n",
        "\n",
        "    problem = FreezeCoreTransformer(\n",
        "        freeze_core=True, remove_orbitals=[-3, -2]\n",
        "    ).transform(properties)\n",
        "\n",
        "    num_particles = problem.num_particles\n",
        "    num_spatial_orbitals = problem.num_spatial_orbitals\n",
        "\n",
        "    mapper = ParityMapper(num_particles=num_particles)\n",
        "    qubit_op = mapper.map(problem.second_q_ops()[0])\n",
        "    return qubit_op, num_particles, num_spatial_orbitals, problem, mapper"
      ]
    },
    {
      "cell_type": "code",
      "execution_count": null,
      "metadata": {
        "colab": {
          "base_uri": "https://localhost:8080/"
        },
        "id": "aRHoDEJ3B4I7",
        "outputId": "c86b9935-a8b7-4380-b32c-5e79664e9148"
      },
      "outputs": [
        {
          "name": "stderr",
          "output_type": "stream",
          "text": [
            "/usr/local/lib/python3.10/dist-packages/pyscf/dft/libxc.py:771: UserWarning: Since PySCF-2.3, B3LYP (and B3P86) are changed to the VWN-RPA variant, corresponding to the original definition by Stephens et al. (issue 1480) and the same as the B3LYP functional in Gaussian. To restore the VWN5 definition, you can put the setting \"B3LYP_WITH_VWN5 = True\" in pyscf_conf.py\n",
            "  warnings.warn('Since PySCF-2.3, B3LYP (and B3P86) are changed to the VWN-RPA variant, '\n"
          ]
        },
        {
          "name": "stdout",
          "output_type": "stream",
          "text": [
            "Interatomic Distance: 0.5 VQE Result: -7.04791 Exact Energy: -7.04791\n",
            "Interatomic Distance: 0.7 VQE Result: -7.50400 Exact Energy: -7.50400\n",
            "Interatomic Distance: 0.9 VQE Result: -7.72283 Exact Energy: -7.72283\n",
            "Interatomic Distance: 1.1 VQE Result: -7.82520 Exact Energy: -7.82520\n",
            "Interatomic Distance: 1.3 VQE Result: -7.86890 Exact Energy: -7.86890\n",
            "Interatomic Distance: 1.5 VQE Result: -7.88214 Exact Energy: -7.88214\n",
            "Interatomic Distance: 1.7 VQE Result: -7.87920 Exact Energy: -7.87920\n",
            "Interatomic Distance: 1.9 VQE Result: -7.86799 Exact Energy: -7.86799\n",
            "Interatomic Distance: 2.1 VQE Result: -7.85320 Exact Energy: -7.85320\n",
            "Interatomic Distance: 2.3 VQE Result: -7.83772 Exact Energy: -7.83772\n",
            "Interatomic Distance: 2.5 VQE Result: -7.82343 Exact Energy: -7.82343\n",
            "Interatomic Distance: 2.7 VQE Result: -7.81142 Exact Energy: -7.81142\n",
            "Interatomic Distance: 2.9 VQE Result: -7.80215 Exact Energy: -7.80215\n",
            "Interatomic Distance: 3.1 VQE Result: -7.79545 Exact Energy: -7.79545\n",
            "Interatomic Distance: 3.3 VQE Result: -7.79085 Exact Energy: -7.79085\n",
            "Interatomic Distance: 3.5 VQE Result: -7.78776 Exact Energy: -7.78776\n",
            "Interatomic Distance: 3.7 VQE Result: -7.78573 Exact Energy: -7.78573\n",
            "Interatomic Distance: 3.9 VQE Result: -7.78441 Exact Energy: -7.78441\n",
            "All energies have been calculated\n"
          ]
        }
      ],
      "source": [
        "from qiskit_aer.primitives import Estimator\n",
        "\n",
        "\n",
        "def exact_solver(qubit_op, problem):\n",
        "    sol = NumPyMinimumEigensolver().compute_minimum_eigenvalue(qubit_op)\n",
        "    result = problem.interpret(sol)\n",
        "    return result\n",
        "\n",
        "\n",
        "distances = np.arange(0.5, 4.0, 0.2)\n",
        "exact_energies = []\n",
        "vqe_energies = []\n",
        "optimizer = SLSQP(maxiter=10)\n",
        "noiseless_estimator = Estimator(approximation=True)\n",
        "\n",
        "# pylint: disable=undefined-loop-variable,line-too-long\n",
        "for dist in distances:\n",
        "\n",
        "    (qubit_op, num_particles, num_spatial_orbitals, problem, mapper) = get_qubit_op(\n",
        "        dist\n",
        "    )\n",
        "\n",
        "    result = exact_solver(qubit_op, problem)\n",
        "    exact_energies.append(result.total_energies[0].real)\n",
        "    init_state = HartreeFock(num_spatial_orbitals, num_particles, mapper)\n",
        "    var_form = UCCSD(\n",
        "        num_spatial_orbitals, num_particles, mapper, initial_state=init_state\n",
        "    )\n",
        "    vqe = VQE(\n",
        "        noiseless_estimator,\n",
        "        var_form,\n",
        "        optimizer,\n",
        "        initial_point=[0] * var_form.num_parameters,\n",
        "    )\n",
        "    vqe_calc = vqe.compute_minimum_eigenvalue(qubit_op)\n",
        "    vqe_result = problem.interpret(vqe_calc).total_energies[0].real\n",
        "    vqe_energies.append(vqe_result)\n",
        "    print(\n",
        "        f\"Interatomic Distance: {np.round(dist, 2)}\",\n",
        "        f\"VQE Result: {vqe_result:.5f}\",\n",
        "        f\"Exact Energy: {exact_energies[-1]:.5f}\",\n",
        "    )\n",
        "\n",
        "print(\"All energies have been calculated\")"
      ]
    },
    {
      "cell_type": "code",
      "execution_count": null,
      "metadata": {
        "colab": {
          "base_uri": "https://localhost:8080/",
          "height": 449
        },
        "id": "CXy46CSHB6Cx",
        "outputId": "315b0eb7-8109-4b9b-a172-f7e03f37ccb0"
      },
      "outputs": [
        {
          "data": {
            "image/png": "[encoded data removed]",
            "text/plain": [
              "<Figure size 640x480 with 1 Axes>"
            ]
          },
          "metadata": {},
          "output_type": "display_data"
        }
      ],
      "source": [
        "plt.plot(distances, exact_energies, label=\"Tiksli energija\")\n",
        "plt.plot(distances, vqe_energies, label=\"VQE energija\")\n",
        "plt.xlabel(\"Atstumas tarp atomų Angstremais\")\n",
        "plt.ylabel(\"Energija\")\n",
        "plt.legend()\n",
        "plt.show()"
      ]
    },
    {
      "cell_type": "markdown",
      "metadata": {
        "id": "aLUHf5GIx02e"
      },
      "source": []
    },
    {
      "cell_type": "markdown",
      "source": [
        "## Excited stuff"
      ],
      "metadata": {
        "id": "4PX_-_SvPphG"
      }
    },
    {
      "cell_type": "code",
      "source": [
        "from qiskit.primitives import Estimator\n",
        "\n",
        "\n",
        "\n",
        "def get_problem(dist):\n",
        "\n",
        "    molecule = MoleculeInfo(\n",
        "        symbols=[\"Li\", \"H\"],\n",
        "        coords=([0.0, 0.0, 0.0], [1.59, 0.0, 0.0]), # 1.59 A - real distance between bond\n",
        "        multiplicity=1,\n",
        "        charge=0,\n",
        "    )\n",
        "\n",
        "    driver = PySCFDriver.from_molecule(molecule)\n",
        "\n",
        "\n",
        "    properties = driver.run()\n",
        "\n",
        "    problem =  ActiveSpaceTransformer(num_electrons=2, num_spatial_orbitals=2).transform(properties)\n",
        "\n",
        "    num_particles = problem.num_particles\n",
        "    num_spatial_orbitals = problem.num_spatial_orbitals\n",
        "\n",
        "\n",
        "\n",
        "    mapper = ParityMapper()\n",
        "    return num_particles, num_spatial_orbitals, problem, mapper\n"
      ],
      "metadata": {
        "id": "gJCqiC6pPsNn"
      },
      "execution_count": null,
      "outputs": []
    },
    {
      "cell_type": "code",
      "source": [
        "optimizer = SLSQP(maxiter=10)\n",
        "noiseless_estimator = Estimator()\n",
        "\n",
        "\n",
        "def filter_criterion(eigenstate, eigenvalue, aux_values):\n",
        "    return np.isclose(aux_values[\"ParticleNumber\"][0], 2.0) and np.isclose(\n",
        "        aux_values[\"Magnetization\"][0], 0.0\n",
        "    )\n",
        "\n",
        "\n",
        "exact_energies=[]\n",
        "\n",
        "qeomvqe_energies=[]\n",
        "\n",
        "\n",
        "distances = [1]\n",
        "\n",
        "\n",
        "\n",
        "numpy_solver = NumPyEigensolver(k=4, filter_criterion=filter_criterion)\n",
        "\n",
        "for dist in distances:\n",
        "\n",
        "    (num_particles, num_spatial_orbitals, problem, mapper) = get_problem(dist)\n",
        "\n",
        "\n",
        "    numpy_solver = NumPyEigensolver(k=4, filter_criterion=filter_criterion)\n",
        "\n",
        "    numpy_excited_states_solver = ExcitedStatesEigensolver(mapper, numpy_solver)\n",
        "    numpy_results = numpy_excited_states_solver.solve(problem)\n",
        "\n",
        "    print(numpy_results)\n",
        "    init_state = HartreeFock(num_spatial_orbitals, num_particles, mapper)\n",
        "    var_form = UCCSD(\n",
        "        num_spatial_orbitals, num_particles, mapper, initial_state=init_state\n",
        "    )\n",
        "    vqe = VQE(\n",
        "        noiseless_estimator,\n",
        "        var_form,\n",
        "        optimizer,\n",
        "        initial_point=[0.0] * var_form.num_parameters,\n",
        "    )\n",
        "\n",
        "    gse = GroundStateEigensolver(mapper, vqe)\n",
        "\n",
        "    qeom_excited_states_solver = QEOM(gse, noiseless_estimator, \"sd\", EvaluationRule.ALL)\n",
        "\n",
        "    qeom_results = qeom_excited_states_solver.solve(problem)\n",
        "\n",
        "    # print(\n",
        "    #     f\"Interatomic Distance: {np.round(dist, 2)}\",\n",
        "    #     f\"VQE Result: {vqe_result:.5f}\",\n",
        "    #     f\"Exact Energy: {exact_energies[-1]:.5f}\",\n",
        "    # )\n",
        "\n",
        "    # print(\n",
        "    #     f\"Interatomic Distance: {np.round(dist, 2)}\")\n",
        "    # print(numpy_results.total_energies)\n",
        "    # print(\"\\n\\n\")\n",
        "    # # print(qeom_results)\n",
        "    # print(qeom_results.total_energies)\n",
        "    # print(\"-------------------------------------\")\n",
        "\n",
        "    exact_energies.append(numpy_results)\n",
        "    qeomvqe_energies.append(qeom_results)\n",
        "\n",
        "print(\"All energies have been calculated\")"
      ],
      "metadata": {
        "colab": {
          "base_uri": "https://localhost:8080/"
        },
        "id": "_XD9kdN-a7yF",
        "outputId": "47e863ce-b094-4c54-a3b7-1f1c517c9aa4"
      },
      "execution_count": null,
      "outputs": [
        {
          "output_type": "stream",
          "name": "stdout",
          "text": [
            "=== GROUND STATE ENERGY ===\n",
            " \n",
            "* Electronic ground state energy (Hartree): -8.860881705408\n",
            "  - computed part:      -1.060505747127\n",
            "  - ActiveSpaceTransformer extracted energy part: -7.800375958281\n",
            "~ Nuclear repulsion energy (Hartree): 0.998447567774\n",
            "> Total ground state energy (Hartree): -7.862434137635\n",
            " \n",
            "=== EXCITED STATE ENERGIES ===\n",
            " \n",
            "  1: \n",
            "* Electronic excited state energy (Hartree): -8.705865512264\n",
            "> Total excited state energy (Hartree): -7.707417944491\n",
            "  2: \n",
            "* Electronic excited state energy (Hartree): -8.163478330729\n",
            "> Total excited state energy (Hartree): -7.165030762955\n",
            " \n",
            "=== MEASURED OBSERVABLES ===\n",
            " \n",
            "  0:  # Particles: 2.000 S: 0.000 S^2: 0.000 M: 0.000\n",
            "  1:  # Particles: 2.000 S: 0.000 S^2: 0.000 M: 0.000\n",
            "  2:  # Particles: 2.000 S: 0.000 S^2: 0.000 M: 0.000\n",
            " \n",
            "=== DIPOLE MOMENTS ===\n",
            " \n",
            "~ Nuclear dipole moment (a.u.): [3.00466454  0.0  0.0]\n",
            " \n",
            "  0: \n",
            "  * Electronic dipole moment (a.u.): [4.90040656909  0.0  0.0]\n",
            "    - computed part:      [4.904442977872  0.0  0.0]\n",
            "    - ActiveSpaceTransformer extracted energy part: [-0.004036408782  0.0  0.0]\n",
            "  > Dipole moment (a.u.): [-1.89574202909  0.0  0.0]  Total: 1.89574202909\n",
            "                 (debye): [-4.818495157492  0.0  0.0]  Total: 4.818495157492\n",
            " \n",
            "  1: \n",
            "  * Electronic dipole moment (a.u.): [0.926271243344  0.0  0.0]\n",
            "    - computed part:      [0.930307652126  0.0  0.0]\n",
            "    - ActiveSpaceTransformer extracted energy part: [-0.004036408782  0.0  0.0]\n",
            "  > Dipole moment (a.u.): [2.078393296656  0.0  0.0]  Total: 2.078393296656\n",
            "                 (debye): [5.282748328425  0.0  0.0]  Total: 5.282748328425\n",
            " \n",
            "  2: \n",
            "  * Electronic dipole moment (a.u.): [-3.356884027685  0.0  0.0]\n",
            "    - computed part:      [-3.352847618903  0.0  0.0]\n",
            "    - ActiveSpaceTransformer extracted energy part: [-0.004036408782  0.0  0.0]\n",
            "  > Dipole moment (a.u.): [6.361548567685  0.0  0.0]  Total: 6.361548567685\n",
            "                 (debye): [16.169442095586  0.0  0.0]  Total: 16.169442095586\n",
            " \n",
            "All energies have been calculated\n"
          ]
        }
      ]
    },
    {
      "cell_type": "code",
      "source": [
        "print(exact_energies[0])"
      ],
      "metadata": {
        "colab": {
          "base_uri": "https://localhost:8080/"
        },
        "id": "nKgGaECHziBA",
        "outputId": "7b338a40-3df1-4fcc-b50f-dd562263baeb"
      },
      "execution_count": null,
      "outputs": [
        {
          "output_type": "stream",
          "name": "stdout",
          "text": [
            "=== GROUND STATE ENERGY ===\n",
            " \n",
            "* Electronic ground state energy (Hartree): -8.860881705408\n",
            "  - computed part:      -1.060505747127\n",
            "  - ActiveSpaceTransformer extracted energy part: -7.800375958281\n",
            "~ Nuclear repulsion energy (Hartree): 0.998447567774\n",
            "> Total ground state energy (Hartree): -7.862434137635\n",
            " \n",
            "=== EXCITED STATE ENERGIES ===\n",
            " \n",
            "  1: \n",
            "* Electronic excited state energy (Hartree): -8.705865512264\n",
            "> Total excited state energy (Hartree): -7.707417944491\n",
            "  2: \n",
            "* Electronic excited state energy (Hartree): -8.163478330729\n",
            "> Total excited state energy (Hartree): -7.165030762955\n",
            " \n",
            "=== MEASURED OBSERVABLES ===\n",
            " \n",
            "  0:  # Particles: 2.000 S: 0.000 S^2: 0.000 M: 0.000\n",
            "  1:  # Particles: 2.000 S: 0.000 S^2: 0.000 M: 0.000\n",
            "  2:  # Particles: 2.000 S: 0.000 S^2: 0.000 M: 0.000\n",
            " \n",
            "=== DIPOLE MOMENTS ===\n",
            " \n",
            "~ Nuclear dipole moment (a.u.): [3.00466454  0.0  0.0]\n",
            " \n",
            "  0: \n",
            "  * Electronic dipole moment (a.u.): [4.90040656909  0.0  0.0]\n",
            "    - computed part:      [4.904442977872  0.0  0.0]\n",
            "    - ActiveSpaceTransformer extracted energy part: [-0.004036408782  0.0  0.0]\n",
            "  > Dipole moment (a.u.): [-1.89574202909  0.0  0.0]  Total: 1.89574202909\n",
            "                 (debye): [-4.818495157492  0.0  0.0]  Total: 4.818495157492\n",
            " \n",
            "  1: \n",
            "  * Electronic dipole moment (a.u.): [0.926271243344  0.0  0.0]\n",
            "    - computed part:      [0.930307652126  0.0  0.0]\n",
            "    - ActiveSpaceTransformer extracted energy part: [-0.004036408782  0.0  0.0]\n",
            "  > Dipole moment (a.u.): [2.078393296656  0.0  0.0]  Total: 2.078393296656\n",
            "                 (debye): [5.282748328425  0.0  0.0]  Total: 5.282748328425\n",
            " \n",
            "  2: \n",
            "  * Electronic dipole moment (a.u.): [-3.356884027685  0.0  0.0]\n",
            "    - computed part:      [-3.352847618903  0.0  0.0]\n",
            "    - ActiveSpaceTransformer extracted energy part: [-0.004036408782  0.0  0.0]\n",
            "  > Dipole moment (a.u.): [6.361548567685  0.0  0.0]  Total: 6.361548567685\n",
            "                 (debye): [16.169442095586  0.0  0.0]  Total: 16.169442095586\n",
            " \n"
          ]
        }
      ]
    },
    {
      "cell_type": "code",
      "source": [
        "print(qeomvqe_energies[0])\n"
      ],
      "metadata": {
        "colab": {
          "base_uri": "https://localhost:8080/"
        },
        "id": "5reuA3a9bPer",
        "outputId": "77340538-f9cb-4241-b4d3-7ff95c374dca"
      },
      "execution_count": null,
      "outputs": [
        {
          "output_type": "stream",
          "name": "stdout",
          "text": [
            "=== GROUND STATE ENERGY ===\n",
            " \n",
            "* Electronic ground state energy (Hartree): -8.860881679739\n",
            "  - computed part:      -1.060505721457\n",
            "  - ActiveSpaceTransformer extracted energy part: -7.800375958281\n",
            "~ Nuclear repulsion energy (Hartree): 0.998447567774\n",
            "> Total ground state energy (Hartree): -7.862434111965\n",
            " \n",
            "=== EXCITED STATE ENERGIES ===\n",
            " \n",
            "  1: \n",
            "* Electronic excited state energy (Hartree): -8.720098806002\n",
            "> Total excited state energy (Hartree): -7.721651238228\n",
            "  2: \n",
            "* Electronic excited state energy (Hartree): -8.705871753862\n",
            "> Total excited state energy (Hartree): -7.707424186088\n",
            "  3: \n",
            "* Electronic excited state energy (Hartree): -8.163482300596\n",
            "> Total excited state energy (Hartree): -7.165034732822\n",
            " \n",
            "=== MEASURED OBSERVABLES ===\n",
            " \n",
            "  0:  # Particles: 2.000 S: 0.000 S^2: 0.000 M: 0.000\n",
            "  1:  # Particles: 2.000 S: 1.000 S^2: 2.000 M: 0.000\n",
            "  2:  # Particles: 2.000 S: 0.000 S^2: 0.000 M: -0.000\n",
            "  3:  # Particles: 2.000 S: 0.000 S^2: 0.000 M: 0.000\n",
            " \n",
            "=== DIPOLE MOMENTS ===\n",
            " \n",
            "~ Nuclear dipole moment (a.u.): [3.00466454  0.0  0.0]\n",
            " \n",
            "  0: \n",
            "  * Electronic dipole moment (a.u.): [4.900633425499  0.0  0.0]\n",
            "    - computed part:      [4.904669834281  0.0  0.0]\n",
            "    - ActiveSpaceTransformer extracted energy part: [-0.004036408782  0.0  0.0]\n",
            "  > Dipole moment (a.u.): [-1.895968885499  0.0  0.0]  Total: 1.895968885499\n",
            "                 (debye): [-4.819071768915  0.0  0.0]  Total: 4.819071768915\n",
            " \n",
            "  1: \n",
            "  * Electronic dipole moment (a.u.): [0.8232647597  0.0  0.0]\n",
            "    - computed part:      [0.827301168482  0.0  0.0]\n",
            "    - ActiveSpaceTransformer extracted energy part: [-0.004036408782  0.0  0.0]\n",
            "  > Dipole moment (a.u.): [2.1813997803  0.0  0.0]  Total: 2.1813997803\n",
            "                 (debye): [5.544564670001  0.0  0.0]  Total: 5.544564670001\n",
            " \n",
            "  2: \n",
            "  * Electronic dipole moment (a.u.): [0.926066574711  0.0  0.0]\n",
            "    - computed part:      [0.930102983493  0.0  0.0]\n",
            "    - ActiveSpaceTransformer extracted energy part: [-0.004036408782  0.0  0.0]\n",
            "  > Dipole moment (a.u.): [2.078597965289  0.0  0.0]  Total: 2.078597965289\n",
            "                 (debye): [5.283268544152  0.0  0.0]  Total: 5.283268544152\n",
            " \n",
            "  3: \n",
            "  * Electronic dipole moment (a.u.): [-3.356906068569  0.0  0.0]\n",
            "    - computed part:      [-3.352869659787  0.0  0.0]\n",
            "    - ActiveSpaceTransformer extracted energy part: [-0.004036408782  0.0  0.0]\n",
            "  > Dipole moment (a.u.): [6.361570608569  0.0  0.0]  Total: 6.361570608569\n",
            "                 (debye): [16.169498117919  0.0  0.0]  Total: 16.169498117919\n",
            " \n"
          ]
        }
      ]
    },
    {
      "cell_type": "markdown",
      "metadata": {
        "id": "OOwU0skmss79"
      },
      "source": [
        "#Noisy stuff"
      ]
    },
    {
      "cell_type": "code",
      "execution_count": null,
      "metadata": {
        "id": "VqaoreYisz39"
      },
      "outputs": [],
      "source": [
        "from qiskit_aer.primitives import Estimator\n",
        "\n",
        "\n",
        "molecule = MoleculeInfo(\n",
        "    # Coordinates in Angstrom\n",
        "    symbols=[\"Li\", \"H\"],\n",
        "    coords=([0.0, 0.0, 0.0], [dist, 0.0, 0.0]),\n",
        "    multiplicity=1,  # = 2*spin + 1\n",
        "    charge=0,\n",
        ")\n",
        "\n",
        "driver = PySCFDriver.from_molecule(molecule)\n",
        "\n",
        "# Get properties\n",
        "properties = driver.run()\n",
        "\n",
        "# Now you can get the reduced electronic structure problem\n",
        "problem = FreezeCoreTransformer(\n",
        "    freeze_core=True, remove_orbitals=[-3, -2]\n",
        ").transform(properties)\n",
        "\n",
        "num_particles = problem.num_particles\n",
        "num_spatial_orbitals = problem.num_spatial_orbitals\n",
        "\n",
        "mapper = ParityMapper(num_particles=num_particles)\n",
        "qubit_op = mapper.map(problem.second_q_ops()[0])"
      ]
    },
    {
      "cell_type": "code",
      "execution_count": null,
      "metadata": {
        "id": "wC_JJm1Ks17B"
      },
      "outputs": [],
      "source": [
        "\n",
        "from qiskit_aer.noise import NoiseModel\n",
        "from qiskit.providers.fake_provider import FakeVigo\n",
        "\n",
        "# fake providers contain data from real IBM Quantum devices stored\n",
        "# in Qiskit Terra, and are useful for extracting realistic noise models.\n",
        "\n",
        "device = FakeVigo()\n",
        "coupling_map = device.configuration().coupling_map\n",
        "noise_model = NoiseModel.from_backend(device)\n",
        "noisy_estimator = Estimator(\n",
        "    backend_options={\"coupling_map\": coupling_map, \"noise_model\": noise_model}\n",
        ")\n",
        "\n"
      ]
    },
    {
      "cell_type": "code",
      "execution_count": null,
      "metadata": {
        "colab": {
          "background_save": true,
          "base_uri": "https://localhost:8080/"
        },
        "id": "qAC3uqputnB5",
        "outputId": "e0f02077-bd28-4a43-e09e-d3c6c4a38fb5"
      },
      "outputs": [
        {
          "name": "stdout",
          "output_type": "stream",
          "text": [
            "Exact Result: [-7.88236229]\n"
          ]
        }
      ],
      "source": [
        "def exact_solver(qubit_op, problem):\n",
        "    sol = NumPyMinimumEigensolver().compute_minimum_eigenvalue(qubit_op)\n",
        "    result = problem.interpret(sol)\n",
        "    return result\n",
        "\n",
        "\n",
        "exact_energies = []\n",
        "vqe_energies = []\n",
        "result = exact_solver(qubit_op, problem)\n",
        "exact_energies.append(result.total_energies)\n",
        "\n",
        "print(\"Exact Result:\", result.total_energies)\n",
        "optimizer = SPSA(maxiter=10)\n",
        "var_form = EfficientSU2(qubit_op.num_qubits, entanglement=\"linear\")\n",
        "vqe = VQE(noisy_estimator, var_form, optimizer)\n",
        "vqe_calc = vqe.compute_minimum_eigenvalue(qubit_op)\n",
        "vqe_result = problem.interpret(vqe_calc).total_energies\n",
        "print(\"VQE Result:\", vqe_result)"
      ]
    }
  ],
  "metadata": {
    "colab": {
      "provenance": [],
      "gpuType": "T4"
    },
    "kernelspec": {
      "display_name": "Python 3",
      "name": "python3"
    },
    "language_info": {
      "name": "python"
    }
  },
  "nbformat": 4,
  "nbformat_minor": 0
}