{
  "cells": [
    {
      "cell_type": "code",
      "execution_count": null,
      "metadata": {
        "id": "cNp6yLW__izN",
        "colab": {
          "base_uri": "https://localhost:8080/"
        },
        "outputId": "d2933364-e7fd-415e-dc6c-226e0119261c"
      },
      "outputs": [
        {
          "output_type": "stream",
          "name": "stdout",
          "text": [
            "\u001b[2K     \u001b[90m━━━━━━━━━━━━━━━━━━━━━━━━━━━━━━━━━━━━━━━━\u001b[0m \u001b[32m5.6/5.6 MB\u001b[0m \u001b[31m21.5 MB/s\u001b[0m eta \u001b[36m0:00:00\u001b[0m\n",
            "\u001b[2K     \u001b[90m━━━━━━━━━━━━━━━━━━━━━━━━━━━━━━━━━━━━━━━━\u001b[0m \u001b[32m2.2/2.2 MB\u001b[0m \u001b[31m39.2 MB/s\u001b[0m eta \u001b[36m0:00:00\u001b[0m\n",
            "\u001b[2K     \u001b[90m━━━━━━━━━━━━━━━━━━━━━━━━━━━━━━━━━━━━━━━━\u001b[0m \u001b[32m12.3/12.3 MB\u001b[0m \u001b[31m43.1 MB/s\u001b[0m eta \u001b[36m0:00:00\u001b[0m\n",
            "\u001b[2K     \u001b[90m━━━━━━━━━━━━━━━━━━━━━━━━━━━━━━━━━━━━━━━━\u001b[0m \u001b[32m47.3/47.3 MB\u001b[0m \u001b[31m8.5 MB/s\u001b[0m eta \u001b[36m0:00:00\u001b[0m\n",
            "\u001b[2K     \u001b[90m━━━━━━━━━━━━━━━━━━━━━━━━━━━━━━━━━━━━━━━━\u001b[0m \u001b[32m308.6/308.6 kB\u001b[0m \u001b[31m4.6 MB/s\u001b[0m eta \u001b[36m0:00:00\u001b[0m\n",
            "\u001b[2K     \u001b[90m━━━━━━━━━━━━━━━━━━━━━━━━━━━━━━━━━━━━━━━━\u001b[0m \u001b[32m2.1/2.1 MB\u001b[0m \u001b[31m11.1 MB/s\u001b[0m eta \u001b[36m0:00:00\u001b[0m\n",
            "\u001b[2K     \u001b[90m━━━━━━━━━━━━━━━━━━━━━━━━━━━━━━━━━━━━━━━━\u001b[0m \u001b[32m116.3/116.3 kB\u001b[0m \u001b[31m2.6 MB/s\u001b[0m eta \u001b[36m0:00:00\u001b[0m\n",
            "\u001b[2K     \u001b[90m━━━━━━━━━━━━━━━━━━━━━━━━━━━━━━━━━━━━━━━━\u001b[0m \u001b[32m49.7/49.7 kB\u001b[0m \u001b[31m998.4 kB/s\u001b[0m eta \u001b[36m0:00:00\u001b[0m\n",
            "\u001b[2K     \u001b[90m━━━━━━━━━━━━━━━━━━━━━━━━━━━━━━━━━━━━━━━━\u001b[0m \u001b[32m39.4/39.4 MB\u001b[0m \u001b[31m6.0 MB/s\u001b[0m eta \u001b[36m0:00:00\u001b[0m\n",
            "\u001b[2K     \u001b[90m━━━━━━━━━━━━━━━━━━━━━━━━━━━━━━━━━━━━━━━━\u001b[0m \u001b[32m107.5/107.5 kB\u001b[0m \u001b[31m3.3 MB/s\u001b[0m eta \u001b[36m0:00:00\u001b[0m\n",
            "\u001b[?25h"
          ]
        }
      ],
      "source": [
        "!pip install -q qiskit qiskit-nature qiskit-aer pyscf qiskit_algorithms"
      ]
    },
    {
      "cell_type": "code",
      "execution_count": null,
      "metadata": {
        "id": "L0VM1Vdyw7bl"
      },
      "outputs": [],
      "source": [
        "# pylint: disable=line-too-long\n",
        "import qiskit_nature\n",
        "from qiskit_algorithms.minimum_eigensolvers import NumPyMinimumEigensolver, VQE\n",
        "from qiskit_algorithms.optimizers import SLSQP,SPSA\n",
        "from qiskit_nature.second_q.transformers import FreezeCoreTransformer, ActiveSpaceTransformer\n",
        "from qiskit_nature.second_q.formats.molecule_info import MoleculeInfo\n",
        "from qiskit_nature.second_q.mappers import ParityMapper\n",
        "from qiskit_nature.second_q.circuit.library import UCCSD, HartreeFock\n",
        "\n",
        "qiskit_nature.settings.use_pauli_sum_op = False  # pylint: disable=undefined-variable\n",
        "# pylint: enable=line-too-long\n",
        "from qiskit_nature.second_q.drivers import PySCFDriver\n",
        "import matplotlib.pyplot as plt\n",
        "from qiskit.circuit.library import EfficientSU2\n",
        "import numpy as np\n",
        "import pyscf\n",
        "\n",
        "\n",
        "from qiskit_nature.second_q.algorithms import ExcitedStatesEigensolver\n",
        "from qiskit_algorithms import NumPyEigensolver\n",
        "from qiskit_nature.second_q.algorithms import GroundStateEigensolver, QEOM, EvaluationRule\n",
        "from qiskit_nature.units import DistanceUnit\n",
        "from qiskit_nature.second_q.mappers import JordanWignerMapper"
      ]
    },
    {
      "cell_type": "markdown",
      "metadata": {
        "id": "NhddQi-8cfj5"
      },
      "source": [
        "##Noiseless stuff"
      ]
    },
    {
      "cell_type": "code",
      "execution_count": null,
      "metadata": {
        "id": "JLvhjajow83I"
      },
      "outputs": [],
      "source": [
        "from qiskit_aer.primitives import Estimator\n",
        "def get_qubit_op(dist):\n",
        "    molecule = MoleculeInfo(\n",
        "        symbols=[\"H\",\"Be\", \"H\"],\n",
        "        coords=([0.0, 0.0, -dist], [0.0, 0.0, 0.0], [0.0, 0.0, dist]),\n",
        "        multiplicity=1,\n",
        "        charge=0,\n",
        "    )\n",
        "\n",
        "    driver = PySCFDriver.from_molecule(molecule)\n",
        "\n",
        "    properties = driver.run()\n",
        "\n",
        "    problem = FreezeCoreTransformer(\n",
        "        freeze_core=True\n",
        "    ).transform(properties)\n",
        "\n",
        "    num_particles = problem.num_particles\n",
        "    num_spatial_orbitals = problem.num_spatial_orbitals\n",
        "\n",
        "    mapper = ParityMapper(num_particles=num_particles)\n",
        "    qubit_op = mapper.map(problem.second_q_ops()[0])\n",
        "    return qubit_op, num_particles, num_spatial_orbitals, problem, mapper"
      ]
    },
    {
      "cell_type": "code",
      "execution_count": null,
      "metadata": {
        "colab": {
          "base_uri": "https://localhost:8080/"
        },
        "id": "qRtM99bmxADd",
        "outputId": "26ee83f0-b55f-44a8-fed2-53386a1b0211"
      },
      "outputs": [
        {
          "name": "stderr",
          "output_type": "stream",
          "text": [
            "/usr/local/lib/python3.10/dist-packages/pyscf/dft/libxc.py:771: UserWarning: Since PySCF-2.3, B3LYP (and B3P86) are changed to the VWN-RPA variant, corresponding to the original definition by Stephens et al. (issue 1480) and the same as the B3LYP functional in Gaussian. To restore the VWN5 definition, you can put the setting \"B3LYP_WITH_VWN5 = True\" in pyscf_conf.py\n",
            "  warnings.warn('Since PySCF-2.3, B3LYP (and B3P86) are changed to the VWN-RPA variant, '\n"
          ]
        },
        {
          "name": "stdout",
          "output_type": "stream",
          "text": [
            "Interatomic Distance: 0.5 VQE Result: -13.68772 Exact Energy: -13.68826\n",
            "Interatomic Distance: 0.7 VQE Result: -14.87061 Exact Energy: -14.87098\n",
            "Interatomic Distance: 0.9 VQE Result: -15.36356 Exact Energy: -15.36382\n",
            "Interatomic Distance: 1.1 VQE Result: -15.54905 Exact Energy: -15.54932\n",
            "Interatomic Distance: 1.3 VQE Result: -15.59436 Exact Energy: -15.59471\n",
            "Interatomic Distance: 1.5 VQE Result: -15.57514 Exact Energy: -15.57571\n",
            "Interatomic Distance: 1.7 VQE Result: -15.52776 Exact Energy: -15.52878\n",
            "Interatomic Distance: 1.9 VQE Result: -15.47112 Exact Energy: -15.47312\n",
            "Interatomic Distance: 2.1 VQE Result: -15.41620 Exact Energy: -15.42019\n",
            "Interatomic Distance: 2.3 VQE Result: -15.37050 Exact Energy: -15.37788\n",
            "Interatomic Distance: 2.5 VQE Result: -15.33983 Exact Energy: -15.35149\n",
            "Interatomic Distance: 2.7 VQE Result: -15.32410 Exact Energy: -15.34021\n",
            "Interatomic Distance: 2.9 VQE Result: -15.31842 Exact Energy: -15.33693\n",
            "Interatomic Distance: 3.1 VQE Result: -15.31877 Exact Energy: -15.33629\n",
            "Interatomic Distance: 3.3 VQE Result: -15.32260 Exact Energy: -15.33630\n",
            "Interatomic Distance: 3.5 VQE Result: -15.32751 Exact Energy: -15.33639\n",
            "Interatomic Distance: 3.7 VQE Result: -15.33145 Exact Energy: -15.33646\n",
            "Interatomic Distance: 3.9 VQE Result: -15.33392 Exact Energy: -15.33649\n",
            "All energies have been calculated\n"
          ]
        }
      ],
      "source": [
        "from qiskit_aer.primitives import Estimator\n",
        "\n",
        "\n",
        "def exact_solver(qubit_op, problem):\n",
        "    sol = NumPyMinimumEigensolver().compute_minimum_eigenvalue(qubit_op)\n",
        "    result = problem.interpret(sol)\n",
        "    return result\n",
        "\n",
        "\n",
        "distances = np.arange(0.5, 4.0, 0.2)\n",
        "exact_energies = []\n",
        "vqe_energies = []\n",
        "optimizer = SLSQP(maxiter=10)\n",
        "noiseless_estimator = Estimator(approximation=True)\n",
        "\n",
        "for dist in distances:\n",
        "    (qubit_op, num_particles, num_spatial_orbitals, problem, mapper) = get_qubit_op(\n",
        "        dist\n",
        "    )\n",
        "\n",
        "    result = exact_solver(qubit_op, problem)\n",
        "    exact_energies.append(result.total_energies[0].real)\n",
        "    init_state = HartreeFock(num_spatial_orbitals, num_particles, mapper)\n",
        "    var_form = UCCSD(\n",
        "        num_spatial_orbitals, num_particles, mapper, initial_state=init_state\n",
        "    )\n",
        "    vqe = VQE(\n",
        "        noiseless_estimator,\n",
        "        var_form,\n",
        "        optimizer,\n",
        "        initial_point=[0] * var_form.num_parameters,\n",
        "    )\n",
        "    vqe_calc = vqe.compute_minimum_eigenvalue(qubit_op)\n",
        "    vqe_result = problem.interpret(vqe_calc).total_energies[0].real\n",
        "    vqe_energies.append(vqe_result)\n",
        "    print(\n",
        "        f\"Interatomic Distance: {np.round(dist, 2)}\",\n",
        "        f\"VQE Result: {vqe_result:.5f}\",\n",
        "        f\"Exact Energy: {exact_energies[-1]:.5f}\",\n",
        "    )\n",
        "\n",
        "print(\"All energies have been calculated\")"
      ]
    },
    {
      "cell_type": "code",
      "execution_count": null,
      "metadata": {
        "colab": {
          "base_uri": "https://localhost:8080/",
          "height": 251
        },
        "id": "pnIgN2EFxJFB",
        "outputId": "d317f7ed-f985-4f7e-b0d6-b9e20a3e6ae7"
      },
      "outputs": [
        {
          "ename": "NameError",
          "evalue": "name 'plt' is not defined",
          "output_type": "error",
          "traceback": [
            "\u001b[0;31m---------------------------------------------------------------------------\u001b[0m",
            "\u001b[0;31mNameError\u001b[0m                                 Traceback (most recent call last)",
            "\u001b[0;32m<ipython-input-2-d1459f061855>\u001b[0m in \u001b[0;36m<cell line: 1>\u001b[0;34m()\u001b[0m\n\u001b[0;32m----> 1\u001b[0;31m \u001b[0mplt\u001b[0m\u001b[0;34m.\u001b[0m\u001b[0mplot\u001b[0m\u001b[0;34m(\u001b[0m\u001b[0mdistances\u001b[0m\u001b[0;34m,\u001b[0m \u001b[0mexact_energies\u001b[0m\u001b[0;34m,\u001b[0m \u001b[0mlabel\u001b[0m\u001b[0;34m=\u001b[0m\u001b[0;34m\"Tiksli energija\"\u001b[0m\u001b[0;34m)\u001b[0m\u001b[0;34m\u001b[0m\u001b[0;34m\u001b[0m\u001b[0m\n\u001b[0m\u001b[1;32m      2\u001b[0m \u001b[0mplt\u001b[0m\u001b[0;34m.\u001b[0m\u001b[0mplot\u001b[0m\u001b[0;34m(\u001b[0m\u001b[0mdistances\u001b[0m\u001b[0;34m,\u001b[0m \u001b[0mvqe_energies\u001b[0m\u001b[0;34m,\u001b[0m \u001b[0mlabel\u001b[0m\u001b[0;34m=\u001b[0m\u001b[0;34m\"VQE energija\"\u001b[0m\u001b[0;34m)\u001b[0m\u001b[0;34m\u001b[0m\u001b[0;34m\u001b[0m\u001b[0m\n\u001b[1;32m      3\u001b[0m \u001b[0mplt\u001b[0m\u001b[0;34m.\u001b[0m\u001b[0mxlabel\u001b[0m\u001b[0;34m(\u001b[0m\u001b[0;34m\"Atstumas tarp atomų (Angstrom)\"\u001b[0m\u001b[0;34m)\u001b[0m\u001b[0;34m\u001b[0m\u001b[0;34m\u001b[0m\u001b[0m\n\u001b[1;32m      4\u001b[0m \u001b[0mplt\u001b[0m\u001b[0;34m.\u001b[0m\u001b[0mylabel\u001b[0m\u001b[0;34m(\u001b[0m\u001b[0;34m\"Energija\"\u001b[0m\u001b[0;34m)\u001b[0m\u001b[0;34m\u001b[0m\u001b[0;34m\u001b[0m\u001b[0m\n\u001b[1;32m      5\u001b[0m \u001b[0mplt\u001b[0m\u001b[0;34m.\u001b[0m\u001b[0mlegend\u001b[0m\u001b[0;34m(\u001b[0m\u001b[0;34m)\u001b[0m\u001b[0;34m\u001b[0m\u001b[0;34m\u001b[0m\u001b[0m\n",
            "\u001b[0;31mNameError\u001b[0m: name 'plt' is not defined"
          ]
        }
      ],
      "source": [
        "plt.plot(distances, exact_energies, label=\"Tiksli energija\")\n",
        "plt.plot(distances, vqe_energies, label=\"VQE energija\")\n",
        "plt.xlabel(\"Atstumas tarp atomų (Angstrom)\")\n",
        "plt.ylabel(\"Energija\")\n",
        "plt.legend()\n",
        "plt.show()"
      ]
    },
    {
      "cell_type": "markdown",
      "metadata": {
        "id": "UzEWUhUhyAAv"
      },
      "source": [
        "## Excited stuff"
      ]
    },
    {
      "cell_type": "code",
      "execution_count": null,
      "metadata": {
        "id": "3unEzm7kccJy"
      },
      "outputs": [],
      "source": [
        "from qiskit.primitives import Estimator\n",
        "\n",
        "def get_problem():\n",
        "\n",
        "    molecule = MoleculeInfo(\n",
        "        symbols=[\"H\",\"Be\", \"H\"],\n",
        "        coords=([0.0, 0.0, -0.65], [0.0, 0.0, 0.0], [0.0, 0.0, 0.65]), # 0.65 +- exact\n",
        "        multiplicity=1,\n",
        "        charge=0,\n",
        "    )\n",
        "\n",
        "    driver = PySCFDriver.from_molecule(molecule)\n",
        "\n",
        "    properties = driver.run()\n",
        "\n",
        "    problem =  ActiveSpaceTransformer(num_electrons=2, num_spatial_orbitals=2).transform(properties)\n",
        "\n",
        "    num_particles = problem.num_particles\n",
        "    num_spatial_orbitals = problem.num_spatial_orbitals\n",
        "\n",
        "\n",
        "    mapper = ParityMapper()\n",
        "    return num_particles, num_spatial_orbitals, problem, mapper\n",
        "\n"
      ]
    },
    {
      "cell_type": "code",
      "execution_count": null,
      "metadata": {
        "colab": {
          "base_uri": "https://localhost:8080/"
        },
        "id": "92HSLks7lYFX",
        "outputId": "cee2fa95-ca6f-4e5b-c779-823c71df9c55"
      },
      "outputs": [
        {
          "output_type": "stream",
          "name": "stdout",
          "text": [
            "=== GROUND STATE ENERGY ===\n",
            " \n",
            "* Electronic ground state energy (Hartree): -21.55773824979\n",
            "  - computed part:      -1.535212349039\n",
            "  - ActiveSpaceTransformer extracted energy part: -20.022525900751\n",
            "~ Nuclear repulsion energy (Hartree): 6.920009681262\n",
            "> Total ground state energy (Hartree): -14.637728568529\n",
            " \n",
            "=== EXCITED STATE ENERGIES ===\n",
            " \n",
            "  1: \n",
            "* Electronic excited state energy (Hartree): -21.306425576869\n",
            "> Total excited state energy (Hartree): -14.386415895608\n",
            "  2: \n",
            "* Electronic excited state energy (Hartree): -21.167903073102\n",
            "> Total excited state energy (Hartree): -14.247893391841\n",
            "  3: \n",
            "* Electronic excited state energy (Hartree): -20.845859541654\n",
            "> Total excited state energy (Hartree): -13.925849860393\n",
            " \n",
            "=== MEASURED OBSERVABLES ===\n",
            " \n",
            "  0:  # Particles: 2.000 S: 0.000 S^2: 0.000 M: 0.000\n",
            "  1:  # Particles: 2.000 S: 1.000 S^2: 2.000 M: 0.000\n",
            "  2:  # Particles: 2.000 S: 0.000 S^2: 0.000 M: 0.000\n",
            "  3:  # Particles: 2.000 S: 0.000 S^2: 0.000 M: 0.000\n",
            " \n",
            "=== DIPOLE MOMENTS ===\n",
            " \n",
            "~ Nuclear dipole moment (a.u.): [0.0  0.0  0.0]\n",
            " \n",
            "  0: \n",
            "  * Electronic dipole moment (a.u.): [0.0  0.0  0.0]\n",
            "    - computed part:      [0.0  0.0  0.0]\n",
            "    - ActiveSpaceTransformer extracted energy part: [0.0  0.0  0.0]\n",
            "  > Dipole moment (a.u.): [0.0  0.0  0.0]  Total: 0.0\n",
            "                 (debye): [0.0  0.0  0.0]  Total: 0.0\n",
            " \n",
            "  1: \n",
            "  * Electronic dipole moment (a.u.): [0.0  0.0  0.0]\n",
            "    - computed part:      [0.0  0.0  0.0]\n",
            "    - ActiveSpaceTransformer extracted energy part: [0.0  0.0  0.0]\n",
            "  > Dipole moment (a.u.): [0.0  0.0  0.0]  Total: 0.0\n",
            "                 (debye): [0.0  0.0  0.0]  Total: 0.0\n",
            " \n",
            "  2: \n",
            "  * Electronic dipole moment (a.u.): [0.0  0.0  0.0]\n",
            "    - computed part:      [0.0  0.0  0.0]\n",
            "    - ActiveSpaceTransformer extracted energy part: [0.0  0.0  0.0]\n",
            "  > Dipole moment (a.u.): [0.0  0.0  0.0]  Total: 0.0\n",
            "                 (debye): [0.0  0.0  0.0]  Total: 0.0\n",
            " \n",
            "  3: \n",
            "  * Electronic dipole moment (a.u.): [0.0  0.0  0.0]\n",
            "    - computed part:      [0.0  0.0  0.0]\n",
            "    - ActiveSpaceTransformer extracted energy part: [0.0  0.0  0.0]\n",
            "  > Dipole moment (a.u.): [0.0  0.0  0.0]  Total: 0.0\n",
            "                 (debye): [0.0  0.0  0.0]  Total: 0.0\n",
            " \n",
            "All energies have been calculated\n"
          ]
        }
      ],
      "source": [
        "optimizer = SLSQP(maxiter=10)\n",
        "noiseless_estimator = Estimator()\n",
        "\n",
        "\n",
        "exact_energies=[]\n",
        "\n",
        "qeomvqe_energies=[]\n",
        "\n",
        "def filter_criterion(eigenstate, eigenvalue, aux_values):\n",
        "    return np.isclose(aux_values[\"ParticleNumber\"][0], 2.0) and np.isclose(\n",
        "        aux_values[\"Magnetization\"][0], 0.0\n",
        "    )\n",
        "\n",
        "\n",
        "\n",
        "(num_particles, num_spatial_orbitals, problem, mapper) = get_problem()\n",
        "\n",
        "\n",
        "numpy_solver = NumPyEigensolver(k=4, filter_criterion=filter_criterion)\n",
        "\n",
        "numpy_excited_states_solver = ExcitedStatesEigensolver(mapper, numpy_solver)\n",
        "numpy_results = numpy_excited_states_solver.solve(problem)\n",
        "\n",
        "print(numpy_results)\n",
        "\n",
        "init_state = HartreeFock(num_spatial_orbitals, num_particles, mapper)\n",
        "var_form = UCCSD(\n",
        "    num_spatial_orbitals, num_particles, mapper, initial_state=init_state\n",
        ")\n",
        "vqe = VQE(\n",
        "    noiseless_estimator,\n",
        "    var_form,\n",
        "    optimizer,\n",
        "    initial_point=[0.0] * var_form.num_parameters,\n",
        ")\n",
        "\n",
        "gse = GroundStateEigensolver(mapper, vqe)\n",
        "\n",
        "qeom_excited_states_solver = QEOM(gse, noiseless_estimator, \"sd\", EvaluationRule.ALL)\n",
        "\n",
        "qeom_results = qeom_excited_states_solver.solve(problem)\n",
        "\n",
        "# print(\n",
        "#     f\"Interatomic Distance: {np.round(dist, 2)}\",\n",
        "#     f\"VQE Result: {vqe_result:.5f}\",\n",
        "#     f\"Exact Energy: {exact_energies[-1]:.5f}\",\n",
        "# )\n",
        "\n",
        "# print(\n",
        "#     f\"Interatomic Distance: {np.round(dist, 2)}\")\n",
        "# print(numpy_results.total_energies)\n",
        "# print(\"\\n\\n\")\n",
        "# # print(qeom_results)\n",
        "# print(qeom_results.total_energies)\n",
        "# print(\"-------------------------------------\")\n",
        "\n",
        "exact_energies.append(numpy_results)\n",
        "qeomvqe_energies.append(qeom_results)\n",
        "\n",
        "print(\"All energies have been calculated\")"
      ]
    },
    {
      "cell_type": "code",
      "source": [
        "print(qeomvqe_energies[0])"
      ],
      "metadata": {
        "colab": {
          "base_uri": "https://localhost:8080/"
        },
        "id": "OREe9uMAtLIw",
        "outputId": "71751a32-dba3-4208-b40c-07245b4b630c"
      },
      "execution_count": null,
      "outputs": [
        {
          "output_type": "stream",
          "name": "stdout",
          "text": [
            "=== GROUND STATE ENERGY ===\n",
            " \n",
            "* Electronic ground state energy (Hartree): -21.557738233275\n",
            "  - computed part:      -1.535212332523\n",
            "  - ActiveSpaceTransformer extracted energy part: -20.022525900751\n",
            "~ Nuclear repulsion energy (Hartree): 6.920009681262\n",
            "> Total ground state energy (Hartree): -14.637728552013\n",
            " \n",
            "=== EXCITED STATE ENERGIES ===\n",
            " \n",
            "  1: \n",
            "* Electronic excited state energy (Hartree): -21.306447077315\n",
            "> Total excited state energy (Hartree): -14.386437396053\n",
            "  2: \n",
            "* Electronic excited state energy (Hartree): -21.167924564909\n",
            "> Total excited state energy (Hartree): -14.247914883647\n",
            "  3: \n",
            "* Electronic excited state energy (Hartree): -20.845881034628\n",
            "> Total excited state energy (Hartree): -13.925871353367\n",
            " \n",
            "=== MEASURED OBSERVABLES ===\n",
            " \n",
            "  0:  # Particles: 2.000 S: 0.000 S^2: 0.000 M: 0.000\n",
            "  1:  # Particles: 2.000 S: 1.000 S^2: 2.000 M: -0.000\n",
            "  2:  # Particles: 2.000 S: 0.000 S^2: 0.000 M: -0.000\n",
            "  3:  # Particles: 2.000 S: 0.000 S^2: 0.000 M: 0.000\n",
            " \n",
            "=== DIPOLE MOMENTS ===\n",
            " \n",
            "~ Nuclear dipole moment (a.u.): [0.0  0.0  0.0]\n",
            " \n",
            "  0: \n",
            "  * Electronic dipole moment (a.u.): [-0.000000075495  -0.000000068923  0.0]\n",
            "    - computed part:      [-0.000000075495  -0.000000068923  0.0]\n",
            "    - ActiveSpaceTransformer extracted energy part: [0.0  0.0  0.0]\n",
            "  > Dipole moment (a.u.): [0.000000075495  0.000000068923  0.0]  Total: 0.000000102225\n",
            "                 (debye): [0.00000019189  0.000000175184  0.0]  Total: 0.000000259829\n",
            " \n",
            "  1: \n",
            "  * Electronic dipole moment (a.u.): [0.0  0.0  0.0]\n",
            "    - computed part:      [0.0  0.0  0.0]\n",
            "    - ActiveSpaceTransformer extracted energy part: [0.0  0.0  0.0]\n",
            "  > Dipole moment (a.u.): [0.0  0.0  0.0]  Total: 0.0\n",
            "                 (debye): [0.0  0.0  0.0]  Total: 0.0\n",
            " \n",
            "  2: \n",
            "  * Electronic dipole moment (a.u.): [-0.000000093713  -0.000000085555  0.0]\n",
            "    - computed part:      [-0.000000093713  -0.000000085555  0.0]\n",
            "    - ActiveSpaceTransformer extracted energy part: [0.0  0.0  0.0]\n",
            "  > Dipole moment (a.u.): [0.000000093713  0.000000085555  0.0]  Total: 0.000000126893\n",
            "                 (debye): [0.000000238196  0.000000217459  0.0]  Total: 0.00000032253\n",
            " \n",
            "  3: \n",
            "  * Electronic dipole moment (a.u.): [-0.000000009103  -0.00000000831  0.0]\n",
            "    - computed part:      [-0.000000009103  -0.00000000831  0.0]\n",
            "    - ActiveSpaceTransformer extracted energy part: [0.0  0.0  0.0]\n",
            "  > Dipole moment (a.u.): [0.000000009103  0.00000000831  0.0]  Total: 0.000000012325\n",
            "                 (debye): [0.000000023136  0.000000021122  0.0]  Total: 0.000000031328\n",
            " \n"
          ]
        }
      ]
    },
    {
      "cell_type": "code",
      "execution_count": null,
      "metadata": {
        "id": "6eQV1BtrluHh"
      },
      "outputs": [],
      "source": [
        "exact_transposed= np.transpose(exact_energies)\n",
        "\n",
        "qeomvqe_transposed= np.transpose(qeomvqe_energies)\n",
        "\n",
        "\n",
        "\n",
        "plt.plot(distances, exact_transposed[0], label=\"Tiksli energija Pagrindinė būsena\")\n",
        "plt.plot(distances, exact_transposed[1], label=\"Tiksli energija 1 sužadinta būsena\")\n",
        "plt.plot(distances, exact_transposed[2], label=\"Tiksli energija 2 sužadinta būsena\")\n",
        "plt.plot(distances, exact_transposed[3], label=\"Tiksli energija 3 sužadinta būsena\")\n",
        "\n",
        "plt.plot(distances, qeomvqe_transposed[0], label=\"QEomVQE energija Pagrindinė būsena\")\n",
        "plt.plot(distances, qeomvqe_transposed[1], label=\"QEomVQE energija 1 sužadinta būsena\")\n",
        "plt.plot(distances, qeomvqe_transposed[2], label=\"QEomVQE energija 2 sužadinta būsena\")\n",
        "plt.plot(distances, qeomvqe_transposed[3], label=\"QEomVQE energija 3 sužadinta būsena\")\n",
        "plt.xlabel(\"Atstumas tarp atomų Angstremais\")\n",
        "plt.ylabel(\"Energija Hartriais\")\n",
        "plt.legend()\n",
        "plt.show()"
      ]
    },
    {
      "cell_type": "markdown",
      "metadata": {
        "id": "OOwU0skmss79"
      },
      "source": [
        "#Noisy stuff"
      ]
    },
    {
      "cell_type": "code",
      "execution_count": null,
      "metadata": {
        "colab": {
          "base_uri": "https://localhost:8080/"
        },
        "id": "VqaoreYisz39",
        "outputId": "b7b09fbe-1d44-4a2e-e357-d5fed2d01a51"
      },
      "outputs": [
        {
          "name": "stderr",
          "output_type": "stream",
          "text": [
            "/usr/local/lib/python3.10/dist-packages/pyscf/dft/libxc.py:771: UserWarning: Since PySCF-2.3, B3LYP (and B3P86) are changed to the VWN-RPA variant, corresponding to the original definition by Stephens et al. (issue 1480) and the same as the B3LYP functional in Gaussian. To restore the VWN5 definition, you can put the setting \"B3LYP_WITH_VWN5 = True\" in pyscf_conf.py\n",
            "  warnings.warn('Since PySCF-2.3, B3LYP (and B3P86) are changed to the VWN-RPA variant, '\n"
          ]
        }
      ],
      "source": [
        "from qiskit_aer.primitives import Estimator\n",
        "molecule = MoleculeInfo(\n",
        "    # Coordinates in Angstrom\n",
        "    symbols=[\"H\",\"Be\", \"H\"],\n",
        "    coords=([0.0, 0.0, -0.65], [0.0, 0.0, 0.0], [0.0, 0.0, 0.65]),\n",
        "    multiplicity=1,  # = 2*spin + 1\n",
        "    charge=0,\n",
        ")\n",
        "\n",
        "\n",
        "driver = PySCFDriver.from_molecule(molecule)\n",
        "\n",
        "# Get properties\n",
        "properties = driver.run()\n",
        "\n",
        "# Now you can get the reduced electronic structure problem\n",
        "problem = FreezeCoreTransformer(\n",
        "    freeze_core=True\n",
        ").transform(properties)\n",
        "\n",
        "num_particles = problem.num_particles\n",
        "num_spatial_orbitals = problem.num_spatial_orbitals\n",
        "\n",
        "mapper = ParityMapper(num_particles=num_particles)\n",
        "qubit_op = mapper.map(problem.second_q_ops()[0])"
      ]
    },
    {
      "cell_type": "code",
      "execution_count": null,
      "metadata": {
        "colab": {
          "base_uri": "https://localhost:8080/",
          "height": 394
        },
        "id": "wC_JJm1Ks17B",
        "outputId": "13504938-c14a-41d2-e39e-10d382f9135f"
      },
      "outputs": [
        {
          "ename": "ModuleNotFoundError",
          "evalue": "No module named 'qiskit_aer'",
          "output_type": "error",
          "traceback": [
            "\u001b[0;31m---------------------------------------------------------------------------\u001b[0m",
            "\u001b[0;31mModuleNotFoundError\u001b[0m                       Traceback (most recent call last)",
            "\u001b[0;32m<ipython-input-1-23c423edb74c>\u001b[0m in \u001b[0;36m<cell line: 1>\u001b[0;34m()\u001b[0m\n\u001b[0;32m----> 1\u001b[0;31m \u001b[0;32mfrom\u001b[0m \u001b[0mqiskit_aer\u001b[0m\u001b[0;34m.\u001b[0m\u001b[0mprimitives\u001b[0m \u001b[0;32mimport\u001b[0m \u001b[0mEstimator\u001b[0m\u001b[0;34m\u001b[0m\u001b[0;34m\u001b[0m\u001b[0m\n\u001b[0m\u001b[1;32m      2\u001b[0m \u001b[0;32mfrom\u001b[0m \u001b[0mqiskit_aer\u001b[0m\u001b[0;34m.\u001b[0m\u001b[0mnoise\u001b[0m \u001b[0;32mimport\u001b[0m \u001b[0mNoiseModel\u001b[0m\u001b[0;34m\u001b[0m\u001b[0;34m\u001b[0m\u001b[0m\n\u001b[1;32m      3\u001b[0m \u001b[0;32mfrom\u001b[0m \u001b[0mqiskit\u001b[0m\u001b[0;34m.\u001b[0m\u001b[0mproviders\u001b[0m\u001b[0;34m.\u001b[0m\u001b[0mfake_provider\u001b[0m \u001b[0;32mimport\u001b[0m \u001b[0mFakeVigo\u001b[0m\u001b[0;34m\u001b[0m\u001b[0;34m\u001b[0m\u001b[0m\n\u001b[1;32m      4\u001b[0m \u001b[0;34m\u001b[0m\u001b[0m\n\u001b[1;32m      5\u001b[0m \u001b[0;31m# fake providers contain data from real IBM Quantum devices stored\u001b[0m\u001b[0;34m\u001b[0m\u001b[0;34m\u001b[0m\u001b[0m\n",
            "\u001b[0;31mModuleNotFoundError\u001b[0m: No module named 'qiskit_aer'",
            "",
            "\u001b[0;31m---------------------------------------------------------------------------\u001b[0;32m\nNOTE: If your import is failing due to a missing package, you can\nmanually install dependencies using either !pip or !apt.\n\nTo view examples of installing some common dependencies, click the\n\"Open Examples\" button below.\n\u001b[0;31m---------------------------------------------------------------------------\u001b[0m\n"
          ]
        }
      ],
      "source": [
        "\n",
        "from qiskit_aer.noise import NoiseModel\n",
        "from qiskit.providers.fake_provider import FakeVigo\n",
        "\n",
        "# fake providers contain data from real IBM Quantum devices stored\n",
        "# in Qiskit Terra, and are useful for extracting realistic noise models.\n",
        "\n",
        "device = FakeVigo()\n",
        "coupling_map = device.configuration().coupling_map\n",
        "noise_model = NoiseModel.from_backend(device)\n",
        "noisy_estimator = Estimator(\n",
        "    backend_options={\"coupling_map\": coupling_map, \"noise_model\": noise_model}\n",
        ")\n",
        "\n"
      ]
    },
    {
      "cell_type": "code",
      "execution_count": null,
      "metadata": {
        "colab": {
          "base_uri": "https://localhost:8080/"
        },
        "id": "qAC3uqputnB5",
        "outputId": "d2784150-65cf-48e7-aca9-b10c3f648023"
      },
      "outputs": [
        {
          "name": "stdout",
          "output_type": "stream",
          "text": [
            "Exact Result: [-14.66289078]\n"
          ]
        }
      ],
      "source": [
        "def exact_solver(qubit_op, problem):\n",
        "    sol = NumPyMinimumEigensolver().compute_minimum_eigenvalue(qubit_op)\n",
        "    result = problem.interpret(sol)\n",
        "    return result\n",
        "\n",
        "\n",
        "exact_energies = []\n",
        "vqe_energies = []\n",
        "result = exact_solver(qubit_op, problem)\n",
        "exact_energies.append(result.total_energies)\n",
        "\n",
        "print(\"Exact Result:\", result.total_energies)\n",
        "optimizer = SPSA(maxiter=100)\n",
        "var_form = EfficientSU2(qubit_op.num_qubits, entanglement=\"linear\")\n",
        "vqe = VQE(noisy_estimator, var_form, optimizer)\n",
        "vqe_calc = vqe.compute_minimum_eigenvalue(qubit_op)\n",
        "vqe_result = problem.interpret(vqe_calc).total_energies\n",
        "print(\"VQE Result:\", vqe_result)"
      ]
    },
    {
      "cell_type": "code",
      "execution_count": null,
      "metadata": {
        "id": "nMLs_x044MRF"
      },
      "outputs": [],
      "source": []
    }
  ],
  "metadata": {
    "colab": {
      "provenance": []
    },
    "kernelspec": {
      "display_name": "Python 3",
      "name": "python3"
    },
    "language_info": {
      "name": "python"
    }
  },
  "nbformat": 4,
  "nbformat_minor": 0
}